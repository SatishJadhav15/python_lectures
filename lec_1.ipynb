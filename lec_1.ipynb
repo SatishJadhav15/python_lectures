{
 "cells": [
  {
   "cell_type": "markdown",
   "id": "13043807-7336-4b8f-8e3f-274ac40b3cbc",
   "metadata": {},
   "source": [
    "# This is first day"
   ]
  },
  {
   "cell_type": "markdown",
   "id": "10b3503a-ca05-473b-993c-484964c848a3",
   "metadata": {},
   "source": [
    "learning python"
   ]
  },
  {
   "cell_type": "code",
   "execution_count": 4,
   "id": "b3559b03-9182-48e3-8e01-e7db2f884ced",
   "metadata": {},
   "outputs": [],
   "source": [
    "# this is comment"
   ]
  },
  {
   "cell_type": "code",
   "execution_count": 8,
   "id": "6ef3be90-25c8-4943-a777-563cb74671c5",
   "metadata": {},
   "outputs": [
    {
     "data": {
      "text/plain": [
       "' \\nmultiline comment\\n'"
      ]
     },
     "execution_count": 8,
     "metadata": {},
     "output_type": "execute_result"
    }
   ],
   "source": [
    "\"\"\" \n",
    "multiline comment\n",
    "\"\"\""
   ]
  },
  {
   "cell_type": "code",
   "execution_count": 10,
   "id": "b4c59963-a1cf-418d-8a3d-2a0423116832",
   "metadata": {},
   "outputs": [
    {
     "name": "stdout",
     "output_type": "stream",
     "text": [
      "8\n"
     ]
    }
   ],
   "source": [
    "\"\"\" comment \"\"\"\n",
    "print(5+3)"
   ]
  },
  {
   "cell_type": "code",
   "execution_count": 1,
   "id": "9e37dd76-ac79-40c0-a773-50a6ba05cb17",
   "metadata": {},
   "outputs": [
    {
     "name": "stdout",
     "output_type": "stream",
     "text": [
      "222\n",
      "222\n"
     ]
    }
   ],
   "source": [
    "a = int(input())\n",
    "print(a)"
   ]
  },
  {
   "cell_type": "code",
   "execution_count": null,
   "id": "21fda2e2",
   "metadata": {},
   "outputs": [],
   "source": []
  },
  {
   "cell_type": "code",
   "execution_count": 1,
   "id": "5a83a037-37c2-47be-8023-302860f70583",
   "metadata": {},
   "outputs": [
    {
     "data": {
      "text/plain": [
       "' \\nsatish jadhav\\n'"
      ]
     },
     "execution_count": 1,
     "metadata": {},
     "output_type": "execute_result"
    }
   ],
   "source": [
    "''' \n",
    "satish jadhav\n",
    "'''"
   ]
  },
  {
   "cell_type": "code",
   "execution_count": 4,
   "id": "057d7fc1-a479-436b-8458-fe023df19820",
   "metadata": {},
   "outputs": [
    {
     "name": "stdout",
     "output_type": "stream",
     "text": [
      "45satish\n"
     ]
    }
   ],
   "source": [
    "a=str(45)\n",
    "b='satish'\n",
    "print(a+b)"
   ]
  },
  {
   "cell_type": "code",
   "execution_count": null,
   "id": "c452b5cc-58fa-4205-b02d-304624faabfb",
   "metadata": {},
   "outputs": [],
   "source": []
  }
 ],
 "metadata": {
  "kernelspec": {
   "display_name": "Python 3 (ipykernel)",
   "language": "python",
   "name": "python3"
  },
  "language_info": {
   "codemirror_mode": {
    "name": "ipython",
    "version": 3
   },
   "file_extension": ".py",
   "mimetype": "text/x-python",
   "name": "python",
   "nbconvert_exporter": "python",
   "pygments_lexer": "ipython3",
   "version": "3.11.7"
  },
  "widgets": {
   "application/vnd.jupyter.widget-state+json": {
    "state": {},
    "version_major": 2,
    "version_minor": 0
   }
  }
 },
 "nbformat": 4,
 "nbformat_minor": 5
}
