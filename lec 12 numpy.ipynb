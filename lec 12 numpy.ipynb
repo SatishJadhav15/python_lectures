{
 "cells": [
  {
   "cell_type": "markdown",
   "id": "2a0074c3-5544-46f3-8cba-74c422bc4519",
   "metadata": {},
   "source": [
    "# Numpy library "
   ]
  },
  {
   "cell_type": "code",
   "execution_count": 4,
   "id": "240dff59-7434-4b58-b1ae-4660090b39ea",
   "metadata": {},
   "outputs": [],
   "source": [
    "import numpy as np"
   ]
  },
  {
   "cell_type": "code",
   "execution_count": 5,
   "id": "f8ec7392-6c09-4cc6-8c76-51461ff124f0",
   "metadata": {},
   "outputs": [
    {
     "name": "stdout",
     "output_type": "stream",
     "text": [
      "[1 2 3 4 5]\n",
      "<class 'numpy.ndarray'>\n"
     ]
    }
   ],
   "source": [
    "arr = np.array([1,2,3,4,5])\n",
    "print(arr)\n",
    "print(type(arr))"
   ]
  },
  {
   "cell_type": "code",
   "execution_count": 6,
   "id": "06233dd2-8018-49d6-bd5c-836969b777f9",
   "metadata": {},
   "outputs": [
    {
     "name": "stdout",
     "output_type": "stream",
     "text": [
      "[1 2 3 4 5]\n",
      "<class 'numpy.ndarray'>\n"
     ]
    }
   ],
   "source": [
    "arr = np.array((1,2,3,4,5))\n",
    "print(arr)\n",
    "print(type(arr))"
   ]
  },
  {
   "cell_type": "markdown",
   "id": "63cc69fc-a8a8-4469-ac2c-2e2634958a97",
   "metadata": {},
   "source": [
    "# Dimensions in array"
   ]
  },
  {
   "cell_type": "code",
   "execution_count": 7,
   "id": "1df1add4-2f32-4761-9252-ddb297b8efe4",
   "metadata": {},
   "outputs": [
    {
     "name": "stdout",
     "output_type": "stream",
     "text": [
      "20\n",
      "<class 'numpy.ndarray'>\n",
      "Dimension of array = 0\n"
     ]
    }
   ],
   "source": [
    "arr = np.array(20)\n",
    "print(arr)\n",
    "print(type(arr))\n",
    "print(\"Dimension of array =\",arr.ndim)   "
   ]
  },
  {
   "cell_type": "markdown",
   "id": "95655f38-0ff3-4323-bac7-6ccc08369a7a",
   "metadata": {},
   "source": [
    "# 1D array"
   ]
  },
  {
   "cell_type": "code",
   "execution_count": 8,
   "id": "4c62a853-468e-47e9-86da-738a339776c7",
   "metadata": {},
   "outputs": [
    {
     "name": "stdout",
     "output_type": "stream",
     "text": [
      "[1 2 3 4]\n",
      "Dimension of array = 1\n"
     ]
    }
   ],
   "source": [
    "arr = np.array([1,2,3,4])\n",
    "print(arr)\n",
    "print(\"Dimension of array =\",arr.ndim)"
   ]
  },
  {
   "cell_type": "markdown",
   "id": "9c9ea0d1-3b05-4e99-9db7-24b0e139863f",
   "metadata": {},
   "source": [
    "# 2D array"
   ]
  },
  {
   "cell_type": "code",
   "execution_count": 9,
   "id": "6241fc68-52b9-4d75-9db9-b4e43d09e268",
   "metadata": {},
   "outputs": [
    {
     "name": "stdout",
     "output_type": "stream",
     "text": [
      "[[1 2 3]\n",
      " [4 5 8]]\n",
      "Dimension of array = 2\n"
     ]
    }
   ],
   "source": [
    "arr = np.array([[1,2,3],[4,5,8]])\n",
    "print(arr)\n",
    "print(\"Dimension of array =\",arr.ndim)"
   ]
  },
  {
   "cell_type": "code",
   "execution_count": 10,
   "id": "68d9e6ac-5744-49ca-9f19-16d46d4ece86",
   "metadata": {},
   "outputs": [
    {
     "name": "stdout",
     "output_type": "stream",
     "text": [
      "[[[1 2 3]\n",
      "  [4 8 8]]\n",
      "\n",
      " [[5 8 9]\n",
      "  [8 8 3]]]\n",
      "Dimension of array = 3\n"
     ]
    }
   ],
   "source": [
    "arr= np.array([[[1,2,3],[4,8,8]],[[5,8,9],[8,8,3]]])\n",
    "print(arr)\n",
    "print(\"Dimension of array =\",arr.ndim)"
   ]
  },
  {
   "cell_type": "code",
   "execution_count": 11,
   "id": "c858ab71-560c-4339-a0ff-e6ffb87dd347",
   "metadata": {},
   "outputs": [
    {
     "name": "stdout",
     "output_type": "stream",
     "text": [
      "[[[12  5]\n",
      "  [ 5  6]\n",
      "  [55 66]]]\n",
      "3\n"
     ]
    }
   ],
   "source": [
    "import numpy as np\n",
    "arr = np.array([[[12,5],[5,6],[55,66]]])\n",
    "print(arr)\n",
    "print(arr.ndim)"
   ]
  },
  {
   "cell_type": "markdown",
   "id": "aa772ed5-a8b9-4015-b604-7e046c000dbf",
   "metadata": {},
   "source": [
    "# creating a n dimensional array by using ndmin"
   ]
  },
  {
   "cell_type": "code",
   "execution_count": 12,
   "id": "cbdd5687-7776-4a38-88ab-d6e5056264cd",
   "metadata": {},
   "outputs": [
    {
     "name": "stdout",
     "output_type": "stream",
     "text": [
      "[[[[[[55 65 45  7]]]]]]\n",
      "dimdension of given array is :  6\n"
     ]
    }
   ],
   "source": [
    "arr = np.array([55,65,45,7], ndmin=6)\n",
    "print(arr)\n",
    "print(\"dimdension of given array is : \",arr.ndim)"
   ]
  },
  {
   "cell_type": "code",
   "execution_count": 13,
   "id": "78eaaa40-6f29-4454-81e7-e1292fd59607",
   "metadata": {},
   "outputs": [
    {
     "name": "stdout",
     "output_type": "stream",
     "text": [
      "[[[[[[55 65 45  7]]]]]]\n",
      "dimdension of given array is :  6\n"
     ]
    }
   ],
   "source": [
    "arr = np.array([55,65,45,7], ndmin=6)\n",
    "print(arr)\n",
    "print(\"dimdension of given array is : \",arr.ndim)"
   ]
  },
  {
   "cell_type": "markdown",
   "id": "1e018f48-aae8-4ce8-99cc-a389a11fad18",
   "metadata": {},
   "source": [
    "# indexing in array"
   ]
  },
  {
   "cell_type": "code",
   "execution_count": 14,
   "id": "c0d563ab-03e2-4b82-b055-3e2e540f386b",
   "metadata": {},
   "outputs": [
    {
     "name": "stdout",
     "output_type": "stream",
     "text": [
      "2\n"
     ]
    }
   ],
   "source": [
    "arr =np.array([1,2,3,4])\n",
    "print(arr[1])"
   ]
  },
  {
   "cell_type": "code",
   "execution_count": 15,
   "id": "b4606a33-a5de-403d-bfa2-fc7abe6130af",
   "metadata": {},
   "outputs": [
    {
     "name": "stdout",
     "output_type": "stream",
     "text": [
      "sum of elements: 13\n"
     ]
    }
   ],
   "source": [
    "m =np.array([5,66,8,3,-87,-44,47,658,84,521,48])\n",
    "print(\"sum of elements:\",m[0]+m[2])"
   ]
  },
  {
   "cell_type": "markdown",
   "id": "a06452fb-8806-4a6c-b203-e71fd549d663",
   "metadata": {},
   "source": [
    "# understanding the positions of index for 2d 3d 1d array cases\n"
   ]
  },
  {
   "cell_type": "code",
   "execution_count": 16,
   "id": "baca9f18-b470-4c06-bfd5-7d3d4e654e52",
   "metadata": {},
   "outputs": [
    {
     "name": "stdout",
     "output_type": "stream",
     "text": [
      "1st row and 2nd element: 2\n"
     ]
    }
   ],
   "source": [
    "arr =np.array([[1,2,8,9],[8,7,9,2]])\n",
    "print(\"1st row and 2nd element:\",arr[0,1])"
   ]
  },
  {
   "cell_type": "code",
   "execution_count": 17,
   "id": "331b4f9a-a03f-4bb5-a79c-f284027aa467",
   "metadata": {},
   "outputs": [
    {
     "name": "stdout",
     "output_type": "stream",
     "text": [
      "2nd row and 3rd element: 9\n"
     ]
    }
   ],
   "source": [
    "arr =np.array([[1,2,8,9],[8,7,9,2]])\n",
    "print(\"2nd row and 3rd element:\",arr[1,2])"
   ]
  },
  {
   "cell_type": "code",
   "execution_count": 18,
   "id": "1e4459d4-95f1-46ce-8683-c3577eb112ae",
   "metadata": {},
   "outputs": [
    {
     "name": "stdout",
     "output_type": "stream",
     "text": [
      "1st row and 1st element: 1\n"
     ]
    }
   ],
   "source": [
    "arr =np.array([[1,2,8,9],[8,7,9,2]])\n",
    "print(\"1st row and 1st element:\",arr[0,0])"
   ]
  },
  {
   "cell_type": "code",
   "execution_count": 19,
   "id": "8d506ce7-31c6-437f-84ef-0dab64c910a2",
   "metadata": {},
   "outputs": [
    {
     "name": "stdout",
     "output_type": "stream",
     "text": [
      "2nd row and 2nd element: 7\n"
     ]
    }
   ],
   "source": [
    "arr =np.array([[1,2,8,9],[8,7,9,2]])\n",
    "print(\"2nd row and 2nd element:\",arr[1,1])"
   ]
  },
  {
   "cell_type": "markdown",
   "id": "9ded1323-706b-4f51-87fa-3600b936fc16",
   "metadata": {},
   "source": [
    "# addition of two dim array"
   ]
  },
  {
   "cell_type": "code",
   "execution_count": 20,
   "id": "8218922e-a4d0-4f65-bea4-afd6ea6c221a",
   "metadata": {},
   "outputs": [
    {
     "name": "stdout",
     "output_type": "stream",
     "text": [
      "1st row 1st element: 1\n",
      "2nd row 4th element: 2\n",
      "sum 3\n"
     ]
    }
   ],
   "source": [
    "arr =np.array([[1,2,8,9],[8,7,9,2]])\n",
    "print(\"1st row 1st element:\",arr[0,0])\n",
    "print(\"2nd row 4th element:\",arr[1,3])\n",
    "print(\"sum\", arr[0,0]+arr[1,3])"
   ]
  },
  {
   "cell_type": "markdown",
   "id": "a1bc3867-af0b-496b-86df-7ff3b36e8e76",
   "metadata": {},
   "source": [
    "# access 3d array focus clearly"
   ]
  },
  {
   "cell_type": "code",
   "execution_count": 25,
   "id": "8bffd599-d787-462c-8da3-29df74ef9714",
   "metadata": {},
   "outputs": [
    {
     "name": "stdout",
     "output_type": "stream",
     "text": [
      "2\n",
      "[[[1 2 3]\n",
      "  [8 5 4]\n",
      "  [2 1 3]]]\n"
     ]
    }
   ],
   "source": [
    "arr=np.array([[[1,2,3],[8,5,4],[2,1,3]]])\n",
    "print(arr[0,0,1])\n",
    "print(arr)"
   ]
  },
  {
   "cell_type": "code",
   "execution_count": 28,
   "id": "b4edfed9-b9ee-4cf7-9189-8c5c3132fa67",
   "metadata": {},
   "outputs": [
    {
     "name": "stdout",
     "output_type": "stream",
     "text": [
      "2\n"
     ]
    }
   ],
   "source": [
    "arr=np.array([[[[1,2,3],[8,5,4],[2,1,3]]]])\n",
    "print(arr[0,0,0,1])"
   ]
  },
  {
   "cell_type": "code",
   "execution_count": 29,
   "id": "a3643786-4cef-4572-84bf-d59f0bccfcba",
   "metadata": {},
   "outputs": [
    {
     "name": "stdout",
     "output_type": "stream",
     "text": [
      "2\n"
     ]
    }
   ],
   "source": [
    "arr=np.array([[[1,2,3],[8,5,4]],[[52,5,6],[8,6,1]]])\n",
    "print(arr[0,0,1])"
   ]
  },
  {
   "cell_type": "code",
   "execution_count": 30,
   "id": "faa64ef2-5003-4682-8121-64f43fde04f8",
   "metadata": {},
   "outputs": [
    {
     "name": "stdout",
     "output_type": "stream",
     "text": [
      "5\n"
     ]
    }
   ],
   "source": [
    "arr=np.array([[[1,2,3],[8,5,4]],[[52,5,6],[8,6,1]]])\n",
    "print(arr[1,0,1])"
   ]
  },
  {
   "cell_type": "code",
   "execution_count": null,
   "id": "b499c620-f8d7-4cc8-ad3a-7d828d0620f9",
   "metadata": {},
   "outputs": [],
   "source": []
  },
  {
   "cell_type": "code",
   "execution_count": null,
   "id": "cd7b21ee-9a49-4d74-94e2-20aaf9fe40c3",
   "metadata": {},
   "outputs": [],
   "source": []
  },
  {
   "cell_type": "code",
   "execution_count": null,
   "id": "c510b01a-8d06-495e-b734-277f926bd5ab",
   "metadata": {},
   "outputs": [],
   "source": []
  }
 ],
 "metadata": {
  "kernelspec": {
   "display_name": "Python 3 (ipykernel)",
   "language": "python",
   "name": "python3"
  },
  "language_info": {
   "codemirror_mode": {
    "name": "ipython",
    "version": 3
   },
   "file_extension": ".py",
   "mimetype": "text/x-python",
   "name": "python",
   "nbconvert_exporter": "python",
   "pygments_lexer": "ipython3",
   "version": "3.11.7"
  },
  "widgets": {
   "application/vnd.jupyter.widget-state+json": {
    "state": {},
    "version_major": 2,
    "version_minor": 0
   }
  }
 },
 "nbformat": 4,
 "nbformat_minor": 5
}
