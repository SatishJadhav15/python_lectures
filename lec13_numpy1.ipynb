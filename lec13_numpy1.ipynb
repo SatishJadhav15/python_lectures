{
 "cells": [
  {
   "cell_type": "markdown",
   "id": "2f8b928b-e89d-4f8d-9dbb-482788cc709a",
   "metadata": {},
   "source": [
    "# numpy part 2 "
   ]
  },
  {
   "cell_type": "code",
   "execution_count": 1,
   "id": "deec4646-c5ea-4b88-b340-1b4a5cda4cde",
   "metadata": {},
   "outputs": [],
   "source": [
    "import numpy as np"
   ]
  },
  {
   "cell_type": "raw",
   "id": "6bd52d3c-ab09-4588-ac4b-1b264f707e93",
   "metadata": {},
   "source": []
  },
  {
   "cell_type": "code",
   "execution_count": 11,
   "id": "62f8b442-8148-4ec4-aa2e-46fd6db4b996",
   "metadata": {},
   "outputs": [
    {
     "name": "stdout",
     "output_type": "stream",
     "text": [
      "[22  5  8  1  2  3  4]\n",
      "Print middle three numbers [8 1 2]\n",
      "giving a step of one [22  8  2  4]\n"
     ]
    }
   ],
   "source": [
    "arr = np.array([22,5,8,1,2,3,4])\n",
    "print(arr)\n",
    "print(\"Print middle three numbers\",arr[2:5])\n",
    "print(\"giving a step of one\",arr[::2])"
   ]
  },
  {
   "cell_type": "markdown",
   "id": "e41e0abd-7391-4956-817c-11351c67a78f",
   "metadata": {},
   "source": [
    "# slicing in 2d array"
   ]
  },
  {
   "cell_type": "code",
   "execution_count": 14,
   "id": "950e8389-ade3-4f8d-8f94-0ac10f0e1cd6",
   "metadata": {},
   "outputs": [
    {
     "name": "stdout",
     "output_type": "stream",
     "text": [
      "items in second row and 8 7 9 are : [8 7 9]\n",
      "items in first row and 5 8 are : [5 8]\n"
     ]
    }
   ],
   "source": [
    "arr = np.array([[22,5,8,1],[5,8,7,9]])\n",
    "print(\"items in second row and 8 7 9 are :\",arr[1,1:4])\n",
    "print(\"items in first row and 5 8 are :\",arr[0,1:3])"
   ]
  },
  {
   "cell_type": "markdown",
   "id": "92ba261d-a96e-4daa-a687-c6a9b863089f",
   "metadata": {},
   "source": [
    "# checking data type in array"
   ]
  },
  {
   "cell_type": "code",
   "execution_count": 16,
   "id": "b13d72a7-bf8e-44de-b834-08d9e6257cb0",
   "metadata": {},
   "outputs": [
    {
     "name": "stdout",
     "output_type": "stream",
     "text": [
      "int32\n"
     ]
    }
   ],
   "source": [
    "arr = np.array([[22,5,8,1],[5,8,7,9]])\n",
    "print(arr.dtype)      # int32    means integer 32 bit"
   ]
  },
  {
   "cell_type": "code",
   "execution_count": 17,
   "id": "d6a0ad47-4761-47ec-bf30-aa6a9466a673",
   "metadata": {},
   "outputs": [
    {
     "name": "stdout",
     "output_type": "stream",
     "text": [
      "<U6\n"
     ]
    }
   ],
   "source": [
    "arr = np.array(['animal','dog'])\n",
    "print(arr.dtype)"
   ]
  },
  {
   "cell_type": "markdown",
   "id": "8b077d66-7b99-4c03-a1ab-cdee7ddcc752",
   "metadata": {},
   "source": [
    "# creating  array with defined data type"
   ]
  },
  {
   "cell_type": "code",
   "execution_count": 20,
   "id": "be8e3013-1c3d-4065-8bfa-56d4d273a452",
   "metadata": {},
   "outputs": [
    {
     "name": "stdout",
     "output_type": "stream",
     "text": [
      "[b'1' b'2' b'3' b'4']\n",
      "|S1\n"
     ]
    }
   ],
   "source": [
    "arr = np.array([1,2,3,4], dtype = 'S')    # S means string\n",
    "print(arr)\n",
    "print(arr.dtype)"
   ]
  },
  {
   "cell_type": "markdown",
   "id": "a74a0469-9d92-4866-b035-2e5094f3af1e",
   "metadata": {},
   "source": [
    "# create an array with data types 4 bytes integer"
   ]
  },
  {
   "cell_type": "code",
   "execution_count": 23,
   "id": "d5d88dc7-3bcc-4269-ad0e-3e3e2f84c0ad",
   "metadata": {},
   "outputs": [
    {
     "name": "stdout",
     "output_type": "stream",
     "text": [
      "[1 2 3 4]\n",
      "int32\n"
     ]
    }
   ],
   "source": [
    "arr = np.array([1,2,3,4], dtype = 'i4')     # i = integer\n",
    "print(arr)\n",
    "print(arr.dtype)"
   ]
  },
  {
   "cell_type": "markdown",
   "id": "32042424-c769-4462-8a3c-72d582831cf7",
   "metadata": {},
   "source": [
    "# numpy array shape"
   ]
  },
  {
   "cell_type": "markdown",
   "id": "23df04fd-aabf-45ae-aa0a-69af03117878",
   "metadata": {},
   "source": [
    "shape of an array depends on number of elements in each dimension"
   ]
  },
  {
   "cell_type": "markdown",
   "id": "97b1e43e-16b6-4706-add9-809670d07830",
   "metadata": {},
   "source": [
    "# print the shape of 2d array"
   ]
  },
  {
   "cell_type": "code",
   "execution_count": 26,
   "id": "39e1caff-632f-4cbf-8b82-97786df92c85",
   "metadata": {},
   "outputs": [
    {
     "name": "stdout",
     "output_type": "stream",
     "text": [
      "(2, 4)\n"
     ]
    }
   ],
   "source": [
    "arr = np.array([[22,5,8,1],[5,8,7,9]])\n",
    "print(arr.shape)           # 2 rows and 4 columns"
   ]
  },
  {
   "cell_type": "code",
   "execution_count": 28,
   "id": "fa68c0bc-6a34-4b03-9dbd-3e06ac301084",
   "metadata": {},
   "outputs": [
    {
     "name": "stdout",
     "output_type": "stream",
     "text": [
      "(1, 3, 4)\n"
     ]
    }
   ],
   "source": [
    "arr = np.array([[[22,5,8,1],[5,8,7,9],[10,20,30,40]]])\n",
    "print(arr.shape)"
   ]
  },
  {
   "cell_type": "markdown",
   "id": "aee10e16-fddd-43ad-bea0-322952de6730",
   "metadata": {},
   "source": [
    "# joining nupy arrays"
   ]
  },
  {
   "cell_type": "code",
   "execution_count": 30,
   "id": "4f1b46a5-d738-4f4f-89aa-710473850f9b",
   "metadata": {},
   "outputs": [
    {
     "name": "stdout",
     "output_type": "stream",
     "text": [
      "[1 2 3 4 5 6 7 8]\n"
     ]
    }
   ],
   "source": [
    "arr1= np.array([1,2,3,4])\n",
    "arr2 = np.array([5,6,7,8])\n",
    "arr = np.concatenate((arr1,arr2))\n",
    "print(arr)"
   ]
  },
  {
   "cell_type": "markdown",
   "id": "798b4752-20f3-42af-9d16-cb623af79d18",
   "metadata": {},
   "source": [
    "# join 2d arrays"
   ]
  },
  {
   "cell_type": "code",
   "execution_count": 32,
   "id": "f95c904a-3407-4118-ace2-5321d5305f55",
   "metadata": {},
   "outputs": [
    {
     "name": "stdout",
     "output_type": "stream",
     "text": [
      "[[1 2]\n",
      " [3 4]\n",
      " [5 6]\n",
      " [7 8]]\n"
     ]
    }
   ],
   "source": [
    "arr1= np.array([[1,2],[3,4]])\n",
    "arr2 = np.array([[5,6],[7,8]])\n",
    "arr = np.concatenate((arr1,arr2) , axis=0)\n",
    "print(arr)"
   ]
  },
  {
   "cell_type": "code",
   "execution_count": 33,
   "id": "1e7e1056-3b7b-409f-a2c2-e85536ecb620",
   "metadata": {},
   "outputs": [
    {
     "name": "stdout",
     "output_type": "stream",
     "text": [
      "[[1 2 5 6]\n",
      " [3 4 7 8]]\n"
     ]
    }
   ],
   "source": [
    "arr1= np.array([[1,2],[3,4]])\n",
    "arr2 = np.array([[5,6],[7,8]])\n",
    "arr = np.concatenate((arr1,arr2) , axis=1)\n",
    "print(arr)"
   ]
  },
  {
   "cell_type": "markdown",
   "id": "0bc163fa-5e74-4c2e-8c67-3ed8478e9cb8",
   "metadata": {},
   "source": [
    "# splitting of arrays"
   ]
  },
  {
   "cell_type": "code",
   "execution_count": 34,
   "id": "2a5fbd71-12dd-4412-91e2-9c67bdcfcb48",
   "metadata": {},
   "outputs": [
    {
     "name": "stdout",
     "output_type": "stream",
     "text": [
      "[array([1, 2, 3]), array([4, 5, 6])]\n"
     ]
    }
   ],
   "source": [
    "arr= np.array([1,2,3,4,5,6])\n",
    "new = np.array_split(arr,2)\n",
    "print(new)"
   ]
  },
  {
   "cell_type": "code",
   "execution_count": 35,
   "id": "55ab3e9a-4bbe-4e9b-a3a4-73f9a82129a2",
   "metadata": {},
   "outputs": [
    {
     "name": "stdout",
     "output_type": "stream",
     "text": [
      "[array([1]), array([2]), array([3]), array([4]), array([5]), array([6])]\n"
     ]
    }
   ],
   "source": [
    "arr= np.array([1,2,3,4,5,6])\n",
    "new = np.array_split(arr,6)\n",
    "print(new)"
   ]
  },
  {
   "cell_type": "code",
   "execution_count": 36,
   "id": "c0efdb8a-2de4-4cdf-9835-f0e8f5d22df7",
   "metadata": {},
   "outputs": [
    {
     "name": "stdout",
     "output_type": "stream",
     "text": [
      "[array([1, 2]), array([3, 4]), array([5, 6])]\n"
     ]
    }
   ],
   "source": [
    "arr= np.array([1,2,3,4,5,6])\n",
    "new = np.array_split(arr,3)\n",
    "print(new)"
   ]
  },
  {
   "cell_type": "code",
   "execution_count": 37,
   "id": "0b6a4a3e-4f73-464c-a3cd-6d5e7fd957d8",
   "metadata": {},
   "outputs": [
    {
     "name": "stdout",
     "output_type": "stream",
     "text": [
      "[array([1, 2]), array([3, 4]), array([5]), array([6])]\n"
     ]
    }
   ],
   "source": [
    "arr= np.array([1,2,3,4,5,6])\n",
    "new = np.array_split(arr,4)\n",
    "print(new)"
   ]
  },
  {
   "cell_type": "markdown",
   "id": "a8b6936b-2966-425e-9588-b7f8f2cdfc73",
   "metadata": {},
   "source": [
    "# ravel and flatten"
   ]
  },
  {
   "cell_type": "markdown",
   "id": "9e22d28d-dfb0-4e2b-be28-8a730e324e9c",
   "metadata": {},
   "source": [
    "converts multidimensional array into 1d array"
   ]
  },
  {
   "cell_type": "code",
   "execution_count": 39,
   "id": "ad23582b-b687-4cb3-bd9a-220c27ca1351",
   "metadata": {},
   "outputs": [
    {
     "name": "stdout",
     "output_type": "stream",
     "text": [
      "[[[1 2]\n",
      "  [3 4]\n",
      "  [5 6]]]\n",
      "dimension of array is : 3\n",
      "[1 2 3 4 5 6]\n",
      "dimension of array is : 1\n"
     ]
    }
   ],
   "source": [
    "arr = np.array([[[1,2],[3,4],[5,6]]])\n",
    "print(arr)\n",
    "print(\"dimension of array is :\",arr.ndim)\n",
    "n = arr.ravel()\n",
    "print(n)\n",
    "print(\"dimension of array is :\",n.ndim)"
   ]
  },
  {
   "cell_type": "code",
   "execution_count": 42,
   "id": "cbb44ae1-2aa5-4616-9113-76f748478b95",
   "metadata": {},
   "outputs": [
    {
     "name": "stdout",
     "output_type": "stream",
     "text": [
      "[[[1 2]\n",
      "  [3 4]\n",
      "  [5 6]]]\n",
      "dimension of array is : 3\n",
      "[1 2 3 4 5 6]\n",
      "dimension of array is : 1\n",
      "<class 'numpy.ndarray'>\n"
     ]
    }
   ],
   "source": [
    "arr = np.array([[[1,2],[3,4],[5,6]]])\n",
    "print(arr)\n",
    "print(\"dimension of array is :\",arr.ndim)\n",
    "n = arr.flatten()\n",
    "print(n)\n",
    "print(\"dimension of array is :\",n.ndim)\n",
    "print(type(n))"
   ]
  },
  {
   "cell_type": "code",
   "execution_count": 43,
   "id": "dba2964a-306f-4ec3-9f35-593030302938",
   "metadata": {},
   "outputs": [
    {
     "name": "stdout",
     "output_type": "stream",
     "text": [
      "[[[[1 2]\n",
      "   [3 4]\n",
      "   [5 6]]]]\n",
      "dimension of array is : 4\n",
      "[1 2 3 4 5 6]\n",
      "dimension of array is : 1\n",
      "<class 'numpy.ndarray'>\n"
     ]
    }
   ],
   "source": [
    "arr = np.array([[[[1,2],[3,4],[5,6]]]])\n",
    "print(arr)\n",
    "print(\"dimension of array is :\",arr.ndim)\n",
    "n = arr.flatten()\n",
    "print(n)\n",
    "print(\"dimension of array is :\",n.ndim)\n",
    "print(type(n))"
   ]
  },
  {
   "cell_type": "markdown",
   "id": "54921d8b-ce70-4dda-9711-384bc604bf8c",
   "metadata": {},
   "source": [
    "# unique function"
   ]
  },
  {
   "cell_type": "code",
   "execution_count": 46,
   "id": "18c5ce61-c8a0-43d7-a17e-54f2492710d7",
   "metadata": {},
   "outputs": [
    {
     "name": "stdout",
     "output_type": "stream",
     "text": [
      "[1 2 3 4 1 2 8 9 9 8]\n",
      "[1 2 3 4 8 9]\n"
     ]
    }
   ],
   "source": [
    "arr = np.array([1,2,3,4,1,2,8,9,9,8])\n",
    "print(arr)\n",
    "n = np.unique(arr)\n",
    "print(n)"
   ]
  },
  {
   "cell_type": "code",
   "execution_count": 47,
   "id": "03d9f2d9-f7dc-4fb8-b2f1-29f077b794a8",
   "metadata": {},
   "outputs": [
    {
     "name": "stdout",
     "output_type": "stream",
     "text": [
      "[1 2 3 4 1 2 8 9 9 8]\n",
      "(array([1, 2, 3, 4, 8, 9]), array([0, 1, 2, 3, 6, 7], dtype=int64))\n"
     ]
    }
   ],
   "source": [
    "arr = np.array([1,2,3,4,1,2,8,9,9,8])\n",
    "print(arr)\n",
    "n = np.unique(arr, return_index = True)\n",
    "print(n)"
   ]
  },
  {
   "cell_type": "code",
   "execution_count": 48,
   "id": "862bc025-0e09-45f1-a378-73982e603c22",
   "metadata": {},
   "outputs": [
    {
     "name": "stdout",
     "output_type": "stream",
     "text": [
      "[1 2 3 4 1 2 8 9 9 8]\n",
      "(array([1, 2, 3, 4, 8, 9]), array([0, 1, 2, 3, 6, 7], dtype=int64), array([2, 2, 1, 1, 2, 2], dtype=int64))\n"
     ]
    }
   ],
   "source": [
    "arr = np.array([1,2,3,4,1,2,8,9,9,8])\n",
    "print(arr)\n",
    "n = np.unique(arr, return_index = True, return_counts = True)\n",
    "print(n)"
   ]
  },
  {
   "cell_type": "markdown",
   "id": "b53532a5-4d8a-4032-8e10-d6918a3a16eb",
   "metadata": {},
   "source": [
    "# delete\n"
   ]
  },
  {
   "cell_type": "code",
   "execution_count": 4,
   "id": "2bb632b5-f7d9-4e91-a480-1c0c29cf40b7",
   "metadata": {},
   "outputs": [
    {
     "name": "stdout",
     "output_type": "stream",
     "text": [
      "[1 3 4]\n"
     ]
    }
   ],
   "source": [
    "import numpy as np\n",
    "arr = np.array([1,2,3,4])\n",
    "d = np.delete(arr,[1])\n",
    "\n",
    "print(d)\n"
   ]
  },
  {
   "cell_type": "code",
   "execution_count": 5,
   "id": "0959a861-4291-447d-b1e0-c74038b66c7a",
   "metadata": {},
   "outputs": [
    {
     "name": "stdout",
     "output_type": "stream",
     "text": [
      "[[1 2]\n",
      " [3 4]\n",
      " [5 6]]\n",
      "     \n",
      "[[1 2]\n",
      " [5 6]]\n"
     ]
    }
   ],
   "source": [
    "arr = np.array([[1,2],[3,4],[5,6]])\n",
    "print(arr)\n",
    "print('     ')\n",
    "m = np.delete(arr, 1, axis=0)\n",
    "print(m)"
   ]
  },
  {
   "cell_type": "code",
   "execution_count": null,
   "id": "1ec2ec09-460e-482d-bcd9-ac4759de2534",
   "metadata": {},
   "outputs": [],
   "source": []
  }
 ],
 "metadata": {
  "kernelspec": {
   "display_name": "Python 3 (ipykernel)",
   "language": "python",
   "name": "python3"
  },
  "language_info": {
   "codemirror_mode": {
    "name": "ipython",
    "version": 3
   },
   "file_extension": ".py",
   "mimetype": "text/x-python",
   "name": "python",
   "nbconvert_exporter": "python",
   "pygments_lexer": "ipython3",
   "version": "3.11.7"
  },
  "widgets": {
   "application/vnd.jupyter.widget-state+json": {
    "state": {},
    "version_major": 2,
    "version_minor": 0
   }
  }
 },
 "nbformat": 4,
 "nbformat_minor": 5
}
