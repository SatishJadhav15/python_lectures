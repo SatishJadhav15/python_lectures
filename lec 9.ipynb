{
 "cells": [
  {
   "cell_type": "markdown",
   "id": "2ebab4fd-8ea0-41c0-9b6d-c3a06156ebef",
   "metadata": {},
   "source": [
    "# Tuples"
   ]
  },
  {
   "cell_type": "code",
   "execution_count": 2,
   "id": "c773323d-bc9f-42dc-b846-eac31645901f",
   "metadata": {},
   "outputs": [
    {
     "name": "stdout",
     "output_type": "stream",
     "text": [
      "(112, 'python', 966.255, (88-5j))\n"
     ]
    }
   ],
   "source": [
    "my_tuple = (112,'python',966.255,88-5j)\n",
    "print(my_tuple)"
   ]
  },
  {
   "cell_type": "markdown",
   "id": "ffbd8fc7-8320-4910-82cd-bd02868a3d8c",
   "metadata": {},
   "source": [
    "# empty tuple"
   ]
  },
  {
   "cell_type": "code",
   "execution_count": 3,
   "id": "a3a32463-4114-4651-934b-670676a8b027",
   "metadata": {},
   "outputs": [
    {
     "name": "stdout",
     "output_type": "stream",
     "text": [
      "()\n",
      "<class 'tuple'>\n"
     ]
    }
   ],
   "source": [
    "a = ()\n",
    "print(a)\n",
    "print(type(a))\n"
   ]
  },
  {
   "cell_type": "markdown",
   "id": "83acabc7-a885-45f6-b076-84c57fdcfece",
   "metadata": {},
   "source": [
    "# nested tuple"
   ]
  },
  {
   "cell_type": "code",
   "execution_count": 4,
   "id": "46cfc7b4-f728-453f-b70c-133f6591ff2d",
   "metadata": {},
   "outputs": [
    {
     "name": "stdout",
     "output_type": "stream",
     "text": [
      "<class 'tuple'>\n"
     ]
    }
   ],
   "source": [
    "a = ('hello',[1,25,-4],('dhg',9855))\n",
    "print(type(a))"
   ]
  },
  {
   "cell_type": "markdown",
   "id": "50727a5f-5426-4afb-bd37-4ef96a5a5450",
   "metadata": {},
   "source": [
    " # crating a tuple with only one item"
   ]
  },
  {
   "cell_type": "code",
   "execution_count": 5,
   "id": "46e3821b-3bfd-4169-ad9e-8077c8a50ed7",
   "metadata": {},
   "outputs": [
    {
     "name": "stdout",
     "output_type": "stream",
     "text": [
      "<class 'str'>\n"
     ]
    }
   ],
   "source": [
    "a = ('satish')\n",
    "print(type(a))"
   ]
  },
  {
   "cell_type": "code",
   "execution_count": 6,
   "id": "84d17015-8f78-4e7e-91ad-ee87de5a488d",
   "metadata": {},
   "outputs": [
    {
     "name": "stdout",
     "output_type": "stream",
     "text": [
      "<class 'tuple'>\n"
     ]
    }
   ],
   "source": [
    "a = ('satish',)\n",
    "print(type(a))"
   ]
  },
  {
   "cell_type": "markdown",
   "id": "11fbd16c-2857-4641-bd79-c91e53757ccf",
   "metadata": {},
   "source": [
    " # tuple constructor"
   ]
  },
  {
   "cell_type": "code",
   "execution_count": 7,
   "id": "a74ea025-8c9f-4de6-a348-b9ba13e143ea",
   "metadata": {},
   "outputs": [
    {
     "name": "stdout",
     "output_type": "stream",
     "text": [
      "(1, 58, 'shgd')\n"
     ]
    }
   ],
   "source": [
    "a = tuple((1,58,'shgd'))\n",
    "print(a)"
   ]
  },
  {
   "cell_type": "markdown",
   "id": "73d351c5-da78-4ee6-b5bc-49393e07a17e",
   "metadata": {},
   "source": [
    "# indexing"
   ]
  },
  {
   "cell_type": "code",
   "execution_count": 9,
   "id": "df1002fb-c8da-416a-b520-7d922ec65e60",
   "metadata": {},
   "outputs": [
    {
     "name": "stdout",
     "output_type": "stream",
     "text": [
      "dsd\n",
      "3\n"
     ]
    }
   ],
   "source": [
    "a = (1,2,3, 'dsd')\n",
    "print(a[-1])\n",
    "print(a[2])"
   ]
  },
  {
   "cell_type": "markdown",
   "id": "c3991c5c-e493-4256-8ddb-45dc5002b6d9",
   "metadata": {},
   "source": [
    "# slicing"
   ]
  },
  {
   "cell_type": "code",
   "execution_count": 11,
   "id": "9c56ed1d-b883-475c-9a16-19862896b3e3",
   "metadata": {},
   "outputs": [
    {
     "name": "stdout",
     "output_type": "stream",
     "text": [
      "('python', 'learnig')\n"
     ]
    }
   ],
   "source": [
    "a = ('python','learnig','hello')\n",
    "print(a[0:2])"
   ]
  },
  {
   "cell_type": "code",
   "execution_count": 13,
   "id": "2997297c-8a14-4f3e-b826-73393c406f85",
   "metadata": {},
   "outputs": [
    {
     "name": "stdout",
     "output_type": "stream",
     "text": [
      "(45, 5, 98, 565, 5, 'python')\n"
     ]
    }
   ],
   "source": [
    "a = (45,5,98,565,5)\n",
    "y = list(a)\n",
    "y.append(\"python\")\n",
    "a = tuple(y)\n",
    "print(a)"
   ]
  },
  {
   "cell_type": "code",
   "execution_count": 14,
   "id": "14c5246e-c17d-4d7d-8339-41ee9c849cfd",
   "metadata": {},
   "outputs": [
    {
     "name": "stdout",
     "output_type": "stream",
     "text": [
      "(5, 98, 565, 5)\n"
     ]
    }
   ],
   "source": [
    "a = (45,5,98,565,5)\n",
    "y = list(a)\n",
    "y.remove(45)\n",
    "a = tuple(y)\n",
    "print(a)"
   ]
  },
  {
   "cell_type": "code",
   "execution_count": 15,
   "id": "6c251e8d-2aab-4603-89e9-992a52273db8",
   "metadata": {},
   "outputs": [],
   "source": [
    "del a"
   ]
  },
  {
   "cell_type": "code",
   "execution_count": 16,
   "id": "0a3c4c47-ce59-4514-b1dc-7a2bd2e2aa2e",
   "metadata": {},
   "outputs": [
    {
     "ename": "NameError",
     "evalue": "name 'a' is not defined",
     "output_type": "error",
     "traceback": [
      "\u001b[1;31m---------------------------------------------------------------------------\u001b[0m",
      "\u001b[1;31mNameError\u001b[0m                                 Traceback (most recent call last)",
      "Cell \u001b[1;32mIn[16], line 1\u001b[0m\n\u001b[1;32m----> 1\u001b[0m \u001b[38;5;28mprint\u001b[39m(a)\n",
      "\u001b[1;31mNameError\u001b[0m: name 'a' is not defined"
     ]
    }
   ],
   "source": [
    "print(a)"
   ]
  },
  {
   "cell_type": "markdown",
   "id": "37137c8b-2993-4d09-8a62-b4c3cdbee91f",
   "metadata": {},
   "source": [
    "# Loop"
   ]
  },
  {
   "cell_type": "code",
   "execution_count": 18,
   "id": "e1d34525-2ef9-4074-9110-fb4e65b3332e",
   "metadata": {},
   "outputs": [
    {
     "name": "stdout",
     "output_type": "stream",
     "text": [
      "454544\n",
      "4578\n",
      "8488\n"
     ]
    }
   ],
   "source": [
    "tuple = (454544,4578,8488)\n",
    "for i in tuple:\n",
    "    print(i)"
   ]
  },
  {
   "cell_type": "markdown",
   "id": "94549656-764f-4609-9f69-23bc2d775a4e",
   "metadata": {},
   "source": [
    "# additioin of tuple"
   ]
  },
  {
   "cell_type": "code",
   "execution_count": 19,
   "id": "3f615a74-5327-4c55-b53b-420992f07a4f",
   "metadata": {},
   "outputs": [
    {
     "name": "stdout",
     "output_type": "stream",
     "text": [
      "(555, 558, 52, 55, 885, 85)\n"
     ]
    }
   ],
   "source": [
    "t1 = (555,558,52)\n",
    "t2 = (55,885,85)\n",
    "t3 = t1+t2\n",
    "print(t3)"
   ]
  },
  {
   "cell_type": "code",
   "execution_count": 1,
   "id": "60b48e7a-d28e-4489-bf97-74e7ce2be08b",
   "metadata": {},
   "outputs": [
    {
     "name": "stdout",
     "output_type": "stream",
     "text": [
      "(555, 558, 52, 555, 558, 52, 555, 558, 52)\n"
     ]
    }
   ],
   "source": [
    "t1 = (555,558,52)\n",
    "t2 = t1*3     # here multiplication means we get it three times\n",
    "print(t2)"
   ]
  },
  {
   "cell_type": "code",
   "execution_count": 23,
   "id": "4ec2a50b-1c01-4fcf-931e-c0ca8cbab499",
   "metadata": {},
   "outputs": [
    {
     "name": "stdout",
     "output_type": "stream",
     "text": [
      "(1, 2, 3, 4, 5, 1, 2, 3, 4, 5)\n",
      "(1, 2, 3, 4, 5, 1, 2, 3, 4, 5)\n",
      "(1, 2, 3, 4, 5, 1, 2, 3, 4, 5, 1, 2, 3, 4, 5)\n",
      "5\n"
     ]
    }
   ],
   "source": [
    "t = (1,2,3,4,5)\n",
    "print(t*2)\n",
    "print(t+t)\n",
    "print(t+t+t)\n",
    "print(len(t))\n"
   ]
  },
  {
   "cell_type": "markdown",
   "id": "36f6efc5-fe9b-4d30-929a-83044662edc0",
   "metadata": {},
   "source": [
    "# take five input from user and store in tuple"
   ]
  },
  {
   "cell_type": "code",
   "execution_count": 2,
   "id": "df3265e4-db0d-4325-b8f7-185585d203ac",
   "metadata": {},
   "outputs": [
    {
     "name": "stdout",
     "output_type": "stream",
     "text": [
      "[('age',), ('height',), ('weight',), ('mobile',)]\n"
     ]
    }
   ],
   "source": [
    "a = ('age',)\n",
    "h =(\"height\",)\n",
    "w = (\"weight\",)\n",
    "n = (\"mobile\",)\n",
    "T = []\n",
    "T.append(a)\n",
    "T.append(h)\n",
    "T.append(w)\n",
    "T.append(n)\n",
    "y = tuple(T)\n",
    "print(T)"
   ]
  },
  {
   "cell_type": "code",
   "execution_count": 44,
   "id": "9204d7a3-2091-4873-acaa-e403e0680eea",
   "metadata": {},
   "outputs": [
    {
     "name": "stdin",
     "output_type": "stream",
     "text": [
      "enter 12\n",
      "enter 32\n",
      "enter 65\n",
      "enter 45\n",
      "enter 85\n",
      "enter 25\n"
     ]
    },
    {
     "name": "stdout",
     "output_type": "stream",
     "text": [
      "(12, 32, 65, 45, 85, 25)\n"
     ]
    }
   ],
   "source": [
    "T = ()\n",
    "i = 0\n",
    "while i <= 5:\n",
    "    num =int(input(\"enter\",))\n",
    "    T = T + (num,)\n",
    "    i =i+1\n",
    "print(T)"
   ]
  },
  {
   "cell_type": "raw",
   "id": "b42b0503-9162-4001-bfa4-c3513be02431",
   "metadata": {},
   "source": []
  }
 ],
 "metadata": {
  "kernelspec": {
   "display_name": "Python 3 (ipykernel)",
   "language": "python",
   "name": "python3"
  },
  "language_info": {
   "codemirror_mode": {
    "name": "ipython",
    "version": 3
   },
   "file_extension": ".py",
   "mimetype": "text/x-python",
   "name": "python",
   "nbconvert_exporter": "python",
   "pygments_lexer": "ipython3",
   "version": "3.11.7"
  },
  "widgets": {
   "application/vnd.jupyter.widget-state+json": {
    "state": {},
    "version_major": 2,
    "version_minor": 0
   }
  }
 },
 "nbformat": 4,
 "nbformat_minor": 5
}
