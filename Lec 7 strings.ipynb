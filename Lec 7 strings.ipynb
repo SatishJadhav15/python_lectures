{
 "cells": [
  {
   "cell_type": "markdown",
   "id": "61b8edd8-e517-49d7-a4a0-4d76252df787",
   "metadata": {},
   "source": [
    "# Strings "
   ]
  },
  {
   "cell_type": "markdown",
   "id": "97d3920b-d9a3-4479-a78a-ac2912e28919",
   "metadata": {},
   "source": [
    "multi line strings"
   ]
  },
  {
   "cell_type": "code",
   "execution_count": 1,
   "id": "d969a167-7f05-4a67-853d-6128584beaf6",
   "metadata": {},
   "outputs": [
    {
     "name": "stdout",
     "output_type": "stream",
     "text": [
      "cufh fif fhur \n",
      "euheg gegg ghegg g \n",
      "suhsu j  \n",
      "su  \n"
     ]
    }
   ],
   "source": [
    "a = \"\"\"cufh fif fhur \n",
    "euheg gegg ghegg g \n",
    "suhsu j  \n",
    "su  \"\"\"\n",
    "print(a)"
   ]
  },
  {
   "cell_type": "code",
   "execution_count": 2,
   "id": "b5c702e0-b3c1-4fc6-a37c-088298a76ef5",
   "metadata": {},
   "outputs": [
    {
     "name": "stdout",
     "output_type": "stream",
     "text": [
      "jdg\n"
     ]
    }
   ],
   "source": [
    "a = 'jdg'\n",
    "print(a)"
   ]
  },
  {
   "cell_type": "code",
   "execution_count": 3,
   "id": "7e2a4b31-71c7-4783-80a9-53c861ce568f",
   "metadata": {},
   "outputs": [
    {
     "ename": "SyntaxError",
     "evalue": "unterminated string literal (detected at line 1) (1325665993.py, line 1)",
     "output_type": "error",
     "traceback": [
      "\u001b[1;36m  Cell \u001b[1;32mIn[3], line 1\u001b[1;36m\u001b[0m\n\u001b[1;33m    b = \"hfdyue\u001b[0m\n\u001b[1;37m        ^\u001b[0m\n\u001b[1;31mSyntaxError\u001b[0m\u001b[1;31m:\u001b[0m unterminated string literal (detected at line 1)\n"
     ]
    }
   ],
   "source": [
    "b = \"hfdyue \n",
    "fwfw uie\n",
    "g \n",
    "ehg ng\"\n",
    "print(b)"
   ]
  },
  {
   "cell_type": "markdown",
   "id": "e8ad5a6a-a502-49b4-9bdb-2c2a4f8ff449",
   "metadata": {},
   "source": [
    "# Indexing of strings"
   ]
  },
  {
   "cell_type": "code",
   "execution_count": 5,
   "id": "974e1b63-197c-4165-9669-cd67f8f1c6ac",
   "metadata": {},
   "outputs": [
    {
     "name": "stdout",
     "output_type": "stream",
     "text": [
      "c\n",
      "i\n"
     ]
    }
   ],
   "source": [
    "a = 'Mechanical engineering'\n",
    "b = [1,2,5,8,82]\n",
    "print(a[2])\n",
    "print(a[-3])"
   ]
  },
  {
   "cell_type": "markdown",
   "id": "89b2bf95-941d-45f7-95f8-02408dd90c72",
   "metadata": {},
   "source": [
    "# Slicing of strings"
   ]
  },
  {
   "cell_type": "code",
   "execution_count": 19,
   "id": "09b05533-57ea-47c5-9652-56b0d2b2de4e",
   "metadata": {},
   "outputs": [
    {
     "name": "stdout",
     "output_type": "stream",
     "text": [
      "26\n",
      "u\n",
      "ello \n",
      "Hlsdth \n"
     ]
    }
   ],
   "source": [
    "a  = \"Hello students how are you\"\n",
    "print(len(a))\n",
    "print(a[8])\n",
    "print(a[1:6])\n",
    "print(a[0:20:3])\n"
   ]
  },
  {
   "cell_type": "markdown",
   "id": "3720bad9-0360-4b66-b05c-82904cc3e770",
   "metadata": {},
   "source": [
    " # reversing a statement"
   ]
  },
  {
   "cell_type": "code",
   "execution_count": 20,
   "id": "717ae0b1-a9b1-4b44-bfba-d67ca7c1b8b7",
   "metadata": {},
   "outputs": [
    {
     "name": "stdout",
     "output_type": "stream",
     "text": [
      "uoy era woh stneduts olleH\n"
     ]
    }
   ],
   "source": [
    "a  = \"Hello students how are you\"\n",
    "print(a[::-1])"
   ]
  },
  {
   "cell_type": "markdown",
   "id": "29b44bdd-af39-4aad-a5ab-08324215d65b",
   "metadata": {},
   "source": [
    "# Upper method"
   ]
  },
  {
   "cell_type": "code",
   "execution_count": 6,
   "id": "42e21f82-c87a-4332-a036-182816a56d15",
   "metadata": {},
   "outputs": [
    {
     "name": "stdout",
     "output_type": "stream",
     "text": [
      "INDIA IS MY COUNTRY\n"
     ]
    },
    {
     "data": {
      "text/plain": [
       "'INDIA IS MY COUNTRY'"
      ]
     },
     "execution_count": 6,
     "metadata": {},
     "output_type": "execute_result"
    }
   ],
   "source": [
    "a = 'india is my country'\n",
    "print(a.upper())\n",
    "a.upper()"
   ]
  },
  {
   "cell_type": "code",
   "execution_count": 25,
   "id": "b9aea93b-b59f-49bc-88ce-eb300d8ff500",
   "metadata": {},
   "outputs": [
    {
     "name": "stdout",
     "output_type": "stream",
     "text": [
      "india is my country\n",
      "INDIA IS MY COUNTRY\n"
     ]
    }
   ],
   "source": [
    "v = 'INDIA IS MY COUNTRY'\n",
    "print(v.lower())\n",
    "print(v.upper())"
   ]
  },
  {
   "cell_type": "markdown",
   "id": "74dd872c-eb63-466a-94d9-b43f88729a82",
   "metadata": {},
   "source": [
    "# replace method"
   ]
  },
  {
   "cell_type": "code",
   "execution_count": 26,
   "id": "e7cf7f47-1a1d-42c2-bfb1-1e7eed906bd7",
   "metadata": {},
   "outputs": [
    {
     "name": "stdout",
     "output_type": "stream",
     "text": [
      "bye how are you\n"
     ]
    }
   ],
   "source": [
    "a = 'hello how are you'\n",
    "print(a.replace(\"hello\",\"bye\"))"
   ]
  },
  {
   "cell_type": "code",
   "execution_count": 27,
   "id": "8193130b-5d7b-4cd7-b1ed-c49954f06942",
   "metadata": {},
   "outputs": [
    {
     "name": "stdout",
     "output_type": "stream",
     "text": [
      "bello bow are you\n"
     ]
    }
   ],
   "source": [
    "a = 'hello how are you'\n",
    "print(a.replace(\"h\",\"b\"))"
   ]
  },
  {
   "cell_type": "markdown",
   "id": "5053727a-82b8-4194-9622-d96f75380e65",
   "metadata": {},
   "source": [
    "# Find method\n"
   ]
  },
  {
   "cell_type": "code",
   "execution_count": 31,
   "id": "189758a1-e6a3-416f-b506-5aeb010e7bc1",
   "metadata": {},
   "outputs": [
    {
     "name": "stdout",
     "output_type": "stream",
     "text": [
      "2\n"
     ]
    }
   ],
   "source": [
    " a = 'hello world how are you'\n",
    "b = a.find('l')\n",
    "print(b)"
   ]
  },
  {
   "cell_type": "code",
   "execution_count": null,
   "id": "4d9d2d0f-7d23-4cd6-8a26-2057a36f21ce",
   "metadata": {},
   "outputs": [],
   "source": [
    " "
   ]
  },
  {
   "cell_type": "code",
   "execution_count": null,
   "id": "d873570a-caa2-4fc4-9bcf-3e48df03067f",
   "metadata": {},
   "outputs": [],
   "source": []
  },
  {
   "cell_type": "code",
   "execution_count": null,
   "id": "d88ec1ea-94b3-43b2-abce-edfcd8f32425",
   "metadata": {},
   "outputs": [],
   "source": []
  },
  {
   "cell_type": "markdown",
   "id": "b27a0534-8aed-4a76-a3e0-531009ef27b6",
   "metadata": {},
   "source": [
    "# while for loops"
   ]
  },
  {
   "cell_type": "code",
   "execution_count": 3,
   "id": "751ab660-b942-474e-95ef-5fa3574d24be",
   "metadata": {},
   "outputs": [
    {
     "name": "stdin",
     "output_type": "stream",
     "text": [
      "enter  5\n"
     ]
    },
    {
     "name": "stdout",
     "output_type": "stream",
     "text": [
      "Satish\n",
      "Satish\n",
      "Satish\n",
      "Satish\n",
      "Satish\n"
     ]
    }
   ],
   "source": [
    "i = 1\n",
    "n = int(input(\"enter \"))\n",
    "while i <= n:\n",
    "    print(\"Satish\")\n",
    "    i = i+1"
   ]
  },
  {
   "cell_type": "code",
   "execution_count": 8,
   "id": "26b7c7c8-6f73-4299-9bf9-5b6d8823d1a0",
   "metadata": {},
   "outputs": [
    {
     "name": "stdout",
     "output_type": "stream",
     "text": [
      "8\n",
      "16\n",
      "24\n",
      "32\n",
      "40\n",
      "48\n",
      "56\n",
      "64\n",
      "72\n",
      "80\n"
     ]
    }
   ],
   "source": [
    "# table of 8th \n",
    "i=1\n",
    "n =8\n",
    "while i <=10:\n",
    "    print(i*n)\n",
    "    i = i+1"
   ]
  },
  {
   "cell_type": "code",
   "execution_count": 9,
   "id": "55d9b20a-86fc-450e-98be-097fbd08bd25",
   "metadata": {},
   "outputs": [
    {
     "name": "stdout",
     "output_type": "stream",
     "text": [
      "1225\n",
      "2450\n",
      "3675\n",
      "4900\n",
      "6125\n",
      "7350\n",
      "8575\n",
      "9800\n",
      "11025\n",
      "12250\n"
     ]
    }
   ],
   "source": [
    "# table of 1225th \n",
    "i=1\n",
    "n = 1225\n",
    "while i <=10:\n",
    "    print(i*n)\n",
    "    i = i+1"
   ]
  },
  {
   "cell_type": "code",
   "execution_count": 14,
   "id": "268dc683-9502-40ea-8020-2435c581f792",
   "metadata": {},
   "outputs": [
    {
     "name": "stdout",
     "output_type": "stream",
     "text": [
      "1 satish\n",
      "2 satish\n",
      "3 satish\n",
      "4 satish\n",
      "5 satish\n",
      "6 satish\n",
      "7 satish\n",
      "8 satish\n",
      "9 satish\n",
      "10 satish\n",
      "11 satish\n",
      "12 satish\n",
      "13 satish\n",
      "14 satish\n",
      "15 satish\n",
      "16 satish\n",
      "17 satish\n",
      "18 satish\n",
      "19 satish\n",
      "20 satish\n",
      "we are out of loop\n"
     ]
    }
   ],
   "source": [
    "count = 1\n",
    "while (count <= 20):\n",
    "    print(count,\"satish\")\n",
    "    count = count +1\n",
    "else:\n",
    "    print(\"we are out of loop\")"
   ]
  },
  {
   "cell_type": "markdown",
   "id": "77499118-12e9-42f6-8693-7772113415bf",
   "metadata": {},
   "source": [
    " # for loop"
   ]
  },
  {
   "cell_type": "code",
   "execution_count": 17,
   "id": "2df45806-6d21-42f5-a683-eb6e1c2696d3",
   "metadata": {},
   "outputs": [
    {
     "name": "stdout",
     "output_type": "stream",
     "text": [
      "apple\n",
      "banana\n",
      "mango\n"
     ]
    }
   ],
   "source": [
    "fruits = [\"apple\",\"banana\",\"mango\"]\n",
    "for  i in fruits:\n",
    "    print(i)"
   ]
  },
  {
   "cell_type": "markdown",
   "id": "8b1cf718-a77e-4f3a-9372-1976c514ce54",
   "metadata": {},
   "source": [
    "# looping throgh a string"
   ]
  },
  {
   "cell_type": "code",
   "execution_count": 18,
   "id": "da4e4d00-dc88-4cb3-b867-b7a489dcfaad",
   "metadata": {},
   "outputs": [
    {
     "name": "stdout",
     "output_type": "stream",
     "text": [
      "s\n",
      "t\n",
      "r\n",
      "i\n",
      "n\n",
      "g\n"
     ]
    }
   ],
   "source": [
    "a = 'string'\n",
    "for i in a:\n",
    "    print(i)"
   ]
  },
  {
   "cell_type": "code",
   "execution_count": 19,
   "id": "831ec072-015e-4126-abfe-a762a54baad9",
   "metadata": {},
   "outputs": [
    {
     "name": "stdout",
     "output_type": "stream",
     "text": [
      "s\n",
      "t\n",
      "r\n",
      "i\n",
      "n\n",
      "g\n"
     ]
    }
   ],
   "source": [
    "for x in \"string\":\n",
    "    print(x)"
   ]
  },
  {
   "cell_type": "code",
   "execution_count": 21,
   "id": "f5fd310a-21ce-481d-b8ef-b4e82c300c3e",
   "metadata": {},
   "outputs": [
    {
     "name": "stdout",
     "output_type": "stream",
     "text": [
      "5\n",
      "15\n"
     ]
    }
   ],
   "source": [
    "for i in (5,15):\n",
    "    print(i)"
   ]
  },
  {
   "cell_type": "code",
   "execution_count": 23,
   "id": "bdc70691-1fe2-4ee7-a3cc-236a39d65a51",
   "metadata": {},
   "outputs": [
    {
     "name": "stdout",
     "output_type": "stream",
     "text": [
      "5\n",
      "6\n",
      "7\n",
      "8\n",
      "9\n",
      "10\n",
      "11\n",
      "12\n",
      "13\n",
      "14\n",
      "15\n"
     ]
    }
   ],
   "source": [
    "for i in range (5,16):\n",
    "    print(i)"
   ]
  },
  {
   "cell_type": "code",
   "execution_count": 24,
   "id": "8c0798ce-0b0f-4edd-aa5e-2575372ba7f7",
   "metadata": {},
   "outputs": [
    {
     "name": "stdout",
     "output_type": "stream",
     "text": [
      "0\n",
      "1\n",
      "2\n",
      "3\n",
      "4\n",
      "5\n"
     ]
    }
   ],
   "source": [
    "for i in range(6):\n",
    "    print(i)"
   ]
  },
  {
   "cell_type": "code",
   "execution_count": null,
   "id": "b59199f0-7020-4e7b-a580-85864961df17",
   "metadata": {},
   "outputs": [],
   "source": [
    "tuple=tuple()\n",
    "\n",
    "for i in range(5):\n",
    "    num=int()"
   ]
  }
 ],
 "metadata": {
  "kernelspec": {
   "display_name": "Python 3 (ipykernel)",
   "language": "python",
   "name": "python3"
  },
  "language_info": {
   "codemirror_mode": {
    "name": "ipython",
    "version": 3
   },
   "file_extension": ".py",
   "mimetype": "text/x-python",
   "name": "python",
   "nbconvert_exporter": "python",
   "pygments_lexer": "ipython3",
   "version": "3.11.7"
  },
  "widgets": {
   "application/vnd.jupyter.widget-state+json": {
    "state": {},
    "version_major": 2,
    "version_minor": 0
   }
  }
 },
 "nbformat": 4,
 "nbformat_minor": 5
}
