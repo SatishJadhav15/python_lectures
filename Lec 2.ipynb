{
 "cells": [
  {
   "cell_type": "markdown",
   "id": "3e5003a2-98a7-42f1-8fef-3a817203c613",
   "metadata": {},
   "source": [
    "# variables"
   ]
  },
  {
   "cell_type": "code",
   "execution_count": 2,
   "id": "6c318433-46e3-462a-ac16-4d52f25cfa2b",
   "metadata": {},
   "outputs": [],
   "source": [
    "# variables always start with letters"
   ]
  },
  {
   "cell_type": "code",
   "execution_count": 1,
   "id": "4c830172-dca8-49c0-bb98-c41d0e5fc70f",
   "metadata": {},
   "outputs": [
    {
     "name": "stdout",
     "output_type": "stream",
     "text": [
      "55\n"
     ]
    }
   ],
   "source": [
    "abs22 = 55\n",
    "print(abs22)"
   ]
  },
  {
   "cell_type": "code",
   "execution_count": null,
   "id": "9ccf19b9-a29b-4b69-a41e-61106f684291",
   "metadata": {},
   "outputs": [],
   "source": []
  },
  {
   "cell_type": "code",
   "execution_count": 2,
   "id": "8d0e516b-dc66-4685-bf59-9dc7278a443a",
   "metadata": {},
   "outputs": [
    {
     "name": "stdout",
     "output_type": "stream",
     "text": [
      "555\n"
     ]
    }
   ],
   "source": [
    "_ = 555\n",
    "print(_)"
   ]
  },
  {
   "cell_type": "code",
   "execution_count": 3,
   "id": "3a5d9b82-d791-4f80-85ca-51453836308e",
   "metadata": {},
   "outputs": [
    {
     "name": "stdout",
     "output_type": "stream",
     "text": [
      "55\n"
     ]
    }
   ],
   "source": [
    "_fj =55\n",
    "print(_fj)"
   ]
  },
  {
   "cell_type": "code",
   "execution_count": 9,
   "id": "55609003-82a5-4495-a175-b66226724448",
   "metadata": {},
   "outputs": [
    {
     "name": "stdout",
     "output_type": "stream",
     "text": [
      "45\n"
     ]
    }
   ],
   "source": [
    "apple_45 = 45\n",
    "print(apple_45)"
   ]
  },
  {
   "cell_type": "code",
   "execution_count": 10,
   "id": "8a27c09c-7d57-47ba-b9de-4b8457fb9913",
   "metadata": {},
   "outputs": [
    {
     "ename": "SyntaxError",
     "evalue": "invalid decimal literal (2930461509.py, line 1)",
     "output_type": "error",
     "traceback": [
      "\u001b[1;36m  Cell \u001b[1;32mIn[10], line 1\u001b[1;36m\u001b[0m\n\u001b[1;33m    1_apple = 6          # varibles can't start with numbers\u001b[0m\n\u001b[1;37m     ^\u001b[0m\n\u001b[1;31mSyntaxError\u001b[0m\u001b[1;31m:\u001b[0m invalid decimal literal\n"
     ]
    }
   ],
   "source": [
    "1_apple = 6          # varibles can't start with numbers\n",
    "print(1_apple)"
   ]
  },
  {
   "cell_type": "code",
   "execution_count": 7,
   "id": "f2d51e9e-2b64-442b-939b-df8cf7b1bee8",
   "metadata": {},
   "outputs": [
    {
     "name": "stdout",
     "output_type": "stream",
     "text": [
      "[3, 32, 223]\n",
      "<class 'list'>\n"
     ]
    }
   ],
   "source": [
    "a = [3,32,223]\n",
    "print(a)\n",
    "print(type(a))"
   ]
  },
  {
   "cell_type": "code",
   "execution_count": 11,
   "id": "fd2f71b1-5202-4eb3-95a7-e099459eface",
   "metadata": {},
   "outputs": [
    {
     "ename": "TypeError",
     "evalue": "'int' object is not callable",
     "output_type": "error",
     "traceback": [
      "\u001b[1;31m---------------------------------------------------------------------------\u001b[0m",
      "\u001b[1;31mTypeError\u001b[0m                                 Traceback (most recent call last)",
      "Cell \u001b[1;32mIn[11], line 2\u001b[0m\n\u001b[0;32m      1\u001b[0m \u001b[38;5;28mprint\u001b[39m \u001b[38;5;241m=\u001b[39m \u001b[38;5;241m323\u001b[39m          \u001b[38;5;66;03m# variables can't be in built functions\u001b[39;00m\n\u001b[1;32m----> 2\u001b[0m \u001b[38;5;28mprint\u001b[39m(\u001b[38;5;28mprint\u001b[39m)\n",
      "\u001b[1;31mTypeError\u001b[0m: 'int' object is not callable"
     ]
    }
   ],
   "source": [
    "print = 323          # variables can't be in built functions\n",
    "print(print)"
   ]
  },
  {
   "cell_type": "code",
   "execution_count": 3,
   "id": "ecf74f85-d694-403e-b8d9-5de3477d0bde",
   "metadata": {},
   "outputs": [
    {
     "name": "stdout",
     "output_type": "stream",
     "text": [
      "satishjadhav\n"
     ]
    }
   ],
   "source": [
    "# write a name in ciontinuous format\n",
    "first_name = \"satish\"\n",
    "last_name = \"jadhav\"\n",
    "single_name = first_name + last_name\n",
    "print(single_name)"
   ]
  },
  {
   "cell_type": "code",
   "execution_count": 8,
   "id": "b69ab930-d076-42f6-b8b7-45188bb32642",
   "metadata": {},
   "outputs": [
    {
     "name": "stdout",
     "output_type": "stream",
     "text": [
      "satish jadhav\n"
     ]
    }
   ],
   "source": [
    "first_name = \"satish\"\n",
    "last_name = \"jadhav\"\n",
    "single_name = first_name+\" \"+ last_name\n",
    "print(single_name)"
   ]
  },
  {
   "cell_type": "code",
   "execution_count": null,
   "id": "f2777c7a-e938-4530-9a40-ba1303991f45",
   "metadata": {},
   "outputs": [],
   "source": []
  }
 ],
 "metadata": {
  "kernelspec": {
   "display_name": "Python 3 (ipykernel)",
   "language": "python",
   "name": "python3"
  },
  "language_info": {
   "codemirror_mode": {
    "name": "ipython",
    "version": 3
   },
   "file_extension": ".py",
   "mimetype": "text/x-python",
   "name": "python",
   "nbconvert_exporter": "python",
   "pygments_lexer": "ipython3",
   "version": "3.11.7"
  },
  "widgets": {
   "application/vnd.jupyter.widget-state+json": {
    "state": {},
    "version_major": 2,
    "version_minor": 0
   }
  }
 },
 "nbformat": 4,
 "nbformat_minor": 5
}
