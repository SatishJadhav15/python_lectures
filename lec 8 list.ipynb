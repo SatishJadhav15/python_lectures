{
 "cells": [
  {
   "cell_type": "code",
   "execution_count": 1,
   "id": "a2c1657b-2bae-436e-9de3-1a0b6f74670a",
   "metadata": {},
   "outputs": [
    {
     "name": "stdout",
     "output_type": "stream",
     "text": [
      "I GOT ADMISSION IN INDIAN INSTITUTE OF TECHNOLOGY DELHI\n"
     ]
    }
   ],
   "source": [
    "a='i got admission in indian institute of technology delhi'\n",
    "print(a.upper())"
   ]
  },
  {
   "cell_type": "code",
   "execution_count": null,
   "id": "5a21d4b8-6da7-4688-b7e3-3c172250b914",
   "metadata": {},
   "outputs": [],
   "source": []
  },
  {
   "cell_type": "markdown",
   "id": "021aa24d-23c6-434c-a3ea-fd291d71f4fd",
   "metadata": {},
   "source": [
    "# concept of list"
   ]
  },
  {
   "cell_type": "markdown",
   "id": "ee179ca0-ec4a-4423-85de-5d75efb64342",
   "metadata": {},
   "source": [
    "# concept of list"
   ]
  },
  {
   "cell_type": "code",
   "execution_count": 3,
   "id": "b6445137-0652-41f6-941f-94912c661e9b",
   "metadata": {},
   "outputs": [],
   "source": [
    "mylist = ['mango', 'sdff','fsadfd','sfsa',565,45.54,-45]"
   ]
  },
  {
   "cell_type": "code",
   "execution_count": 4,
   "id": "457c5338-cd3b-4dbf-99d5-a3ae42f3d94d",
   "metadata": {},
   "outputs": [
    {
     "name": "stdout",
     "output_type": "stream",
     "text": [
      "sdff\n"
     ]
    }
   ],
   "source": [
    "print(mylist[1])"
   ]
  },
  {
   "cell_type": "markdown",
   "id": "ccde1f05-2fd3-4449-a11e-fc41d3ff8482",
   "metadata": {},
   "source": [
    "# allowing duplicates"
   ]
  },
  {
   "cell_type": "code",
   "execution_count": 5,
   "id": "ce75ef5e-c784-4770-be1a-5d424fce6c18",
   "metadata": {},
   "outputs": [
    {
     "name": "stdout",
     "output_type": "stream",
     "text": [
      "['sdss', 'college', 'sdss', 'college']\n"
     ]
    }
   ],
   "source": [
    "a = ['sdss','college','sdss','college']\n",
    "print(a)"
   ]
  },
  {
   "cell_type": "code",
   "execution_count": 6,
   "id": "02e59a28-298c-4a9d-8000-29503d7a3e6f",
   "metadata": {},
   "outputs": [
    {
     "name": "stdout",
     "output_type": "stream",
     "text": [
      "[True, False, 'satish']\n"
     ]
    }
   ],
   "source": [
    "a = [True , False , \"satish\"]\n",
    "print(a)"
   ]
  },
  {
   "cell_type": "code",
   "execution_count": 7,
   "id": "4bd0aebb-9c26-4495-9463-9f9bb924ce31",
   "metadata": {},
   "outputs": [
    {
     "name": "stdout",
     "output_type": "stream",
     "text": [
      "3\n"
     ]
    }
   ],
   "source": [
    "print(len(a))"
   ]
  },
  {
   "cell_type": "code",
   "execution_count": 2,
   "id": "33b9ca8a-949f-42d8-be51-81e26c39e003",
   "metadata": {},
   "outputs": [
    {
     "ename": "NameError",
     "evalue": "name 'mylist' is not defined",
     "output_type": "error",
     "traceback": [
      "\u001b[1;31m---------------------------------------------------------------------------\u001b[0m",
      "\u001b[1;31mNameError\u001b[0m                                 Traceback (most recent call last)",
      "Cell \u001b[1;32mIn[2], line 1\u001b[0m\n\u001b[1;32m----> 1\u001b[0m \u001b[38;5;28mprint\u001b[39m(mylist[\u001b[38;5;241m5\u001b[39m])\n\u001b[0;32m      2\u001b[0m \u001b[38;5;28mprint\u001b[39m(a[\u001b[38;5;241m-\u001b[39m\u001b[38;5;241m3\u001b[39m])\n\u001b[0;32m      3\u001b[0m \u001b[38;5;28mprint\u001b[39m(a[\u001b[38;5;241m-\u001b[39m\u001b[38;5;241m2\u001b[39m])\n",
      "\u001b[1;31mNameError\u001b[0m: name 'mylist' is not defined"
     ]
    }
   ],
   "source": [
    "print(mylist[5])\n",
    "print(a[-3])\n",
    "print(a[-2])"
   ]
  },
  {
   "cell_type": "markdown",
   "id": "0419521b-c97d-488f-91d9-fe1e319f9792",
   "metadata": {},
   "source": [
    "# Slicing of lists"
   ]
  },
  {
   "cell_type": "code",
   "execution_count": 1,
   "id": "c36c0f34-0773-44d1-a76b-a8ddc86958c3",
   "metadata": {},
   "outputs": [
    {
     "name": "stdout",
     "output_type": "stream",
     "text": [
      "['mango', 'fsadfd', 565, -45]\n",
      "['sdff', 565]\n",
      "[-45, 45.54, 565, 'sfsa', 'fsadfd', 'sdff', 'mango']\n"
     ]
    }
   ],
   "source": [
    "a = mylist = ['mango', 'sdff','fsadfd','sfsa',565,45.54,-45]\n",
    "print(a[::2])\n",
    "print(a[1::3])\n",
    "print(a[::-1])\n"
   ]
  },
  {
   "cell_type": "markdown",
   "id": "6340cb44-f765-4597-8f93-fbe82960aeec",
   "metadata": {},
   "source": [
    "# Change items"
   ]
  },
  {
   "cell_type": "code",
   "execution_count": 19,
   "id": "00b64406-f3d6-4f21-a404-68049fb15398",
   "metadata": {},
   "outputs": [
    {
     "name": "stdout",
     "output_type": "stream",
     "text": [
      "['mango', 'college', 'sdss', 'college']\n"
     ]
    }
   ],
   "source": [
    "a = ['sdss','college','sdss','college']\n",
    "a[0] = \"mango\"\n",
    "print(a)"
   ]
  },
  {
   "cell_type": "markdown",
   "id": "2c441805-b2f1-43fd-9982-e2bf5f2aaf54",
   "metadata": {},
   "source": [
    "# Change a range of item values"
   ]
  },
  {
   "cell_type": "code",
   "execution_count": 22,
   "id": "3b7f0f55-15c8-4138-8f36-d2aef9409ecd",
   "metadata": {},
   "outputs": [
    {
     "name": "stdout",
     "output_type": "stream",
     "text": [
      "[651, 'Read', 'Books', 22]\n"
     ]
    }
   ],
   "source": [
    "a = [651,25,-25,888,88887,99,77,33,22,22]\n",
    "a[1:9] = [\"Read\",\"Books\"]\n",
    "print(a)"
   ]
  },
  {
   "cell_type": "code",
   "execution_count": 29,
   "id": "0ff5a0ef-bec5-4c06-816b-160d9c052140",
   "metadata": {},
   "outputs": [
    {
     "name": "stdout",
     "output_type": "stream",
     "text": [
      "[651, 25, -25, 888, 88887, 99, 77, 33, 22, 22, -9]\n"
     ]
    }
   ],
   "source": [
    "a = [651,25,-25,888,88887,99,77,33,22,22]\n",
    "a.append(-9)                              # append meanas add value in list\n",
    "print(a)"
   ]
  },
  {
   "cell_type": "code",
   "execution_count": 30,
   "id": "e705b0d6-7e64-4850-801c-f3a722512dcb",
   "metadata": {},
   "outputs": [
    {
     "name": "stdout",
     "output_type": "stream",
     "text": [
      "[25, -25, 888, 88887, 99, 77, 33, 22, 22]\n"
     ]
    }
   ],
   "source": [
    "a = [651,25,-25,888,88887,99,77,33,22,22,\"love\"]\n",
    "a.remove(651)       \n",
    "a.remove(\"love\")\n",
    "print(a)"
   ]
  },
  {
   "cell_type": "code",
   "execution_count": 31,
   "id": "8fecbb6f-d18c-42f0-b5a8-8f3cb4fefc8e",
   "metadata": {},
   "outputs": [
    {
     "name": "stdout",
     "output_type": "stream",
     "text": [
      "['love', 22, 22, 33, 77, 99, 88887, 888, -25, 25, 651]\n"
     ]
    }
   ],
   "source": [
    "a = [651,25,-25,888,88887,99,77,33,22,22,\"love\"]\n",
    "a.reverse()\n",
    "print(a)"
   ]
  },
  {
   "cell_type": "code",
   "execution_count": 33,
   "id": "5d1601b4-5f09-42e2-9e60-68a273715c36",
   "metadata": {},
   "outputs": [
    {
     "name": "stdout",
     "output_type": "stream",
     "text": [
      "10\n"
     ]
    }
   ],
   "source": [
    "l = [651,25,-25,888,88887,99,77,33,22,22]\n",
    "print(len(l))"
   ]
  },
  {
   "cell_type": "code",
   "execution_count": 37,
   "id": "46cbde1f-1196-43c9-8d68-15bffa1b9a71",
   "metadata": {},
   "outputs": [
    {
     "name": "stdout",
     "output_type": "stream",
     "text": [
      "sum 90679\n"
     ]
    }
   ],
   "source": [
    "l = [651,25,-25,888,88887,99,77,33,22,22]\n",
    "a = 0\n",
    "for i in range(10):\n",
    "    a = a +l[i]\n",
    "    i =i+1\n",
    "print(\"sum\",a)"
   ]
  },
  {
   "cell_type": "code",
   "execution_count": 1,
   "id": "3b0755bb-eb33-4208-adbe-21a87ba64844",
   "metadata": {},
   "outputs": [
    {
     "name": "stdout",
     "output_type": "stream",
     "text": [
      "multiplocation 120\n"
     ]
    }
   ],
   "source": [
    "l = [1,2,3,4,5]\n",
    "a = 1\n",
    "for i in range(5):\n",
    "    a = a*l[i]\n",
    "    i =i+1\n",
    "print('multiplocation',a)\n",
    "    "
   ]
  },
  {
   "cell_type": "code",
   "execution_count": null,
   "id": "07485326-7f4b-4b30-bc79-ad1ac5253714",
   "metadata": {},
   "outputs": [],
   "source": []
  }
 ],
 "metadata": {
  "kernelspec": {
   "display_name": "Python 3 (ipykernel)",
   "language": "python",
   "name": "python3"
  },
  "language_info": {
   "codemirror_mode": {
    "name": "ipython",
    "version": 3
   },
   "file_extension": ".py",
   "mimetype": "text/x-python",
   "name": "python",
   "nbconvert_exporter": "python",
   "pygments_lexer": "ipython3",
   "version": "3.11.7"
  },
  "widgets": {
   "application/vnd.jupyter.widget-state+json": {
    "state": {},
    "version_major": 2,
    "version_minor": 0
   }
  }
 },
 "nbformat": 4,
 "nbformat_minor": 5
}
