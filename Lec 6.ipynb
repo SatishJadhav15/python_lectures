{
 "cells": [
  {
   "cell_type": "markdown",
   "id": "a043fee5-d4ca-4b16-b5f9-1eff67894515",
   "metadata": {},
   "source": [
    "# User Functions in python"
   ]
  },
  {
   "cell_type": "code",
   "execution_count": 1,
   "id": "e6dd817f-82df-4c28-80f3-7a42ae668322",
   "metadata": {},
   "outputs": [],
   "source": [
    "def school_details():\n",
    "    print(\"contact details of the school\")\n",
    "    print(\"Holkar school Chandwad\")\n",
    "    print(\"Chandwad, Nashik\")\n",
    "    print(\"abc@gmail,com\")"
   ]
  },
  {
   "cell_type": "code",
   "execution_count": 4,
   "id": "5e9b2b9d-d4cd-4cf4-ad37-3eaf900ddfa8",
   "metadata": {},
   "outputs": [
    {
     "name": "stdin",
     "output_type": "stream",
     "text": [
      "Number of students  1\n",
      "Name of student Satish\n",
      "Marks in science  23\n",
      "Marks in maths  65\n",
      "Marks in social  58\n",
      "Marks in geography  58\n"
     ]
    },
    {
     "name": "stdout",
     "output_type": "stream",
     "text": [
      "\n",
      "contact details of the school\n",
      "Holkar school Chandwad\n",
      "Chandwad, Nashik\n",
      "abc@gmail,com\n"
     ]
    }
   ],
   "source": [
    "n = int(input(\"Number of students \"))\n",
    "for i in range(n):\n",
    "    a =  input(\"Name of student\" )\n",
    "    b = int(input(\"Marks in science \"))\n",
    "    c = int(input(\"Marks in maths \"))\n",
    "    d = int(input(\"Marks in social \"))\n",
    "    e = int(input(\"Marks in geography \"))\n",
    "    print()\n",
    "    school_details()\n",
    "\n",
    "\n"
   ]
  },
  {
   "cell_type": "code",
   "execution_count": 2,
   "id": "dfd5dcb8-adb3-4eb7-be39-fdb258c7bef9",
   "metadata": {},
   "outputs": [],
   "source": [
    "def my_function(fname):\n",
    "    print(fname + ' '+ 'Jadhav')"
   ]
  },
  {
   "cell_type": "code",
   "execution_count": 3,
   "id": "6086fdc5-86b7-48a0-92d1-0f75a665f57f",
   "metadata": {},
   "outputs": [
    {
     "name": "stdout",
     "output_type": "stream",
     "text": [
      "Satish Jadhav\n",
      "rohan Jadhav\n",
      "Rakesh Jadhav\n"
     ]
    }
   ],
   "source": [
    "my_function(\"Satish\")\n",
    "my_function(\"rohan\")\n",
    "my_function(\"Rakesh\")"
   ]
  },
  {
   "cell_type": "code",
   "execution_count": 12,
   "id": "7abafadb-23c3-4787-be6c-bf0a8113c8f9",
   "metadata": {},
   "outputs": [
    {
     "name": "stdout",
     "output_type": "stream",
     "text": [
      "Rakesh Jadhav\n"
     ]
    }
   ],
   "source": [
    "my_function(\"Rakesh\")"
   ]
  },
  {
   "cell_type": "code",
   "execution_count": 13,
   "id": "41560b12-f698-49c4-94a5-25ef5984128a",
   "metadata": {},
   "outputs": [
    {
     "name": "stdout",
     "output_type": "stream",
     "text": [
      "Priya Jadhav\n"
     ]
    }
   ],
   "source": [
    "my_function(\"Priya\")"
   ]
  },
  {
   "cell_type": "code",
   "execution_count": 19,
   "id": "a2ab92ec-f535-4e78-bdb8-a0fa84d1534f",
   "metadata": {},
   "outputs": [],
   "source": [
    "def name(fname,lname):\n",
    "    print(fname +\" \"+ lname)"
   ]
  },
  {
   "cell_type": "code",
   "execution_count": 21,
   "id": "1c3a4c5e-942f-40d9-ab86-01ca41d45c11",
   "metadata": {},
   "outputs": [
    {
     "name": "stdout",
     "output_type": "stream",
     "text": [
      "Satish Jadhav\n"
     ]
    }
   ],
   "source": [
    "name(\"Satish\", \"Jadhav\")"
   ]
  },
  {
   "cell_type": "code",
   "execution_count": null,
   "id": "2a4198af-3f4e-44b7-abf0-9aedf9a601e2",
   "metadata": {},
   "outputs": [],
   "source": []
  },
  {
   "cell_type": "code",
   "execution_count": 38,
   "id": "96792301-be29-4a5b-8c75-3dd8e8faf393",
   "metadata": {},
   "outputs": [],
   "source": [
    "def instruction():\n",
    "    print(\"Last date is 30 0May\")\n",
    "    print(\"Chandwad office\")"
   ]
  },
  {
   "cell_type": "code",
   "execution_count": 29,
   "id": "75a17e26-7db8-44e0-8d02-3067d06ec293",
   "metadata": {},
   "outputs": [],
   "source": [
    "def  electricity_bill(n):\n",
    "    if  0<n <= 500:\n",
    "        print(\"Your bill amount is \",n*5)\n",
    "    elif 750>=n>500 :\n",
    "        print(\"Your bill amount is \",n*10)\n",
    "    elif 1000<= n >750:\n",
    "        print(\"Your bill amount is \",n*15)\n",
    "    elif n>1000:\n",
    "        print(\"Your bill amount is \",n*20)\n",
    "    else:\n",
    "        print(\"Enterd value is not correct\")"
   ]
  },
  {
   "cell_type": "code",
   "execution_count": 41,
   "id": "869cb663-161c-46e8-a6ab-5434d30f493f",
   "metadata": {},
   "outputs": [
    {
     "name": "stdin",
     "output_type": "stream",
     "text": [
      "Number of customers  2\n",
      "Name of customer  hsd\n"
     ]
    },
    {
     "name": "stdout",
     "output_type": "stream",
     "text": [
      "hsd\n"
     ]
    },
    {
     "name": "stdin",
     "output_type": "stream",
     "text": [
      "Number of units  65\n"
     ]
    },
    {
     "name": "stdout",
     "output_type": "stream",
     "text": [
      "Your bill amount is  325\n",
      "\n",
      "Last date is 30 0May\n",
      "Chandwad office\n",
      "\n",
      "\n"
     ]
    },
    {
     "name": "stdin",
     "output_type": "stream",
     "text": [
      "Name of customer  dhyg\n"
     ]
    },
    {
     "name": "stdout",
     "output_type": "stream",
     "text": [
      "dhyg\n"
     ]
    },
    {
     "name": "stdin",
     "output_type": "stream",
     "text": [
      "Number of units  6655\n"
     ]
    },
    {
     "name": "stdout",
     "output_type": "stream",
     "text": [
      "Your bill amount is  99825\n",
      "\n",
      "Last date is 30 0May\n",
      "Chandwad office\n",
      "\n",
      "\n"
     ]
    }
   ],
   "source": [
    "a = int(input(\"Number of customers \"))\n",
    "if a<=0:\n",
    "    print(\"please enter valid customers\")\n",
    "    \n",
    "for i in range (a) :\n",
    "    print(input(\"Name of customer \"))\n",
    "    n = int(input(\"Number of units \"))\n",
    "    electricity_bill(n)\n",
    "    print()\n",
    "    instruction()\n",
    "    print()\n",
    "    print()\n"
   ]
  },
  {
   "cell_type": "code",
   "execution_count": null,
   "id": "9dbfc0a0-5572-47f1-b952-43f4aa24b446",
   "metadata": {},
   "outputs": [],
   "source": []
  },
  {
   "cell_type": "code",
   "execution_count": null,
   "id": "25b82ad8-15f6-49ec-8197-dc0ea405e85c",
   "metadata": {},
   "outputs": [],
   "source": []
  },
  {
   "cell_type": "code",
   "execution_count": null,
   "id": "0e2231e8-dbb9-4a5b-9ddb-a799030fbe76",
   "metadata": {},
   "outputs": [],
   "source": []
  },
  {
   "cell_type": "code",
   "execution_count": null,
   "id": "333cc3f9-efb8-4f2b-964b-b45159dcf255",
   "metadata": {},
   "outputs": [],
   "source": []
  },
  {
   "cell_type": "code",
   "execution_count": null,
   "id": "c2dc6698-dfb1-4285-9c2e-de02f8438eca",
   "metadata": {},
   "outputs": [],
   "source": []
  },
  {
   "cell_type": "code",
   "execution_count": null,
   "id": "492a83a3-1860-4dc7-bba9-1aeaad6d1136",
   "metadata": {},
   "outputs": [],
   "source": []
  },
  {
   "cell_type": "code",
   "execution_count": null,
   "id": "416b86d3-5514-4b78-b3b8-dd4b9edc9e8b",
   "metadata": {},
   "outputs": [],
   "source": []
  },
  {
   "cell_type": "code",
   "execution_count": null,
   "id": "359ac6da-4262-4880-8d6c-fbfb10d79e67",
   "metadata": {},
   "outputs": [],
   "source": []
  },
  {
   "cell_type": "code",
   "execution_count": null,
   "id": "bff4cba6-0d36-4de7-9eeb-07139781b0a9",
   "metadata": {},
   "outputs": [],
   "source": []
  },
  {
   "cell_type": "code",
   "execution_count": null,
   "id": "e013c91a-a5c0-4309-a962-c14e5867e9ce",
   "metadata": {},
   "outputs": [],
   "source": []
  },
  {
   "cell_type": "code",
   "execution_count": null,
   "id": "abefc750-0ed9-462e-b931-5ed475f630c1",
   "metadata": {},
   "outputs": [],
   "source": []
  },
  {
   "cell_type": "code",
   "execution_count": null,
   "id": "cec169f5-feff-447f-b581-3c44965142dd",
   "metadata": {},
   "outputs": [],
   "source": []
  },
  {
   "cell_type": "code",
   "execution_count": null,
   "id": "43ce88cb-3c5b-445b-a3c2-14c1a137547f",
   "metadata": {},
   "outputs": [],
   "source": []
  },
  {
   "cell_type": "code",
   "execution_count": null,
   "id": "9f621f48-75e5-4e51-a235-05d16d653008",
   "metadata": {},
   "outputs": [],
   "source": []
  },
  {
   "cell_type": "code",
   "execution_count": null,
   "id": "77f652a5-9903-47dc-bb8f-6d3f782d4b02",
   "metadata": {},
   "outputs": [],
   "source": []
  },
  {
   "cell_type": "markdown",
   "id": "331bd130-cc26-4155-a7a9-2907ee012868",
   "metadata": {},
   "source": [
    "# practice"
   ]
  },
  {
   "cell_type": "code",
   "execution_count": 2,
   "id": "6665bbbc-4ba4-4fe8-8a8d-e14f5c8bd35e",
   "metadata": {},
   "outputs": [
    {
     "name": "stdin",
     "output_type": "stream",
     "text": [
      "Enter the expression: 45+5-5+1+2+3\n"
     ]
    },
    {
     "name": "stdout",
     "output_type": "stream",
     "text": [
      "51\n"
     ]
    }
   ],
   "source": [
    "a = input(\"Enter the expression:\",)\n",
    "b = eval(a)\n",
    "print(b)"
   ]
  },
  {
   "cell_type": "code",
   "execution_count": 10,
   "id": "f1f4ab75-c742-4509-affb-12df7e8f06db",
   "metadata": {},
   "outputs": [
    {
     "name": "stdout",
     "output_type": "stream",
     "text": [
      "xyz\n"
     ]
    },
    {
     "name": "stdin",
     "output_type": "stream",
     "text": [
      "budget 500\n"
     ]
    },
    {
     "name": "stdout",
     "output_type": "stream",
     "text": [
      " you can buy the stock\n"
     ]
    }
   ],
   "source": [
    "symbol = print(\"xyz\")\n",
    "current_price = 100\n",
    "pert_inrease = 10\n",
    "new_Price = current_price+(pert_inrease/100)*current_price\n",
    "budget = int(input(\"budget\",))\n",
    "if budget >= new_Price:\n",
    "    print(\" you can buy the stock\")\n",
    "else:\n",
    "    print(\"no\")\n",
    "\n",
    "\n",
    "\n"
   ]
  },
  {
   "cell_type": "code",
   "execution_count": null,
   "id": "c369b62a-f7a9-4a9b-bfb0-00a33ab2f2b7",
   "metadata": {},
   "outputs": [],
   "source": []
  },
  {
   "cell_type": "code",
   "execution_count": null,
   "id": "e85a8f24-7389-454c-b5e8-d91e5d442100",
   "metadata": {},
   "outputs": [],
   "source": []
  }
 ],
 "metadata": {
  "kernelspec": {
   "display_name": "Python 3 (ipykernel)",
   "language": "python",
   "name": "python3"
  },
  "language_info": {
   "codemirror_mode": {
    "name": "ipython",
    "version": 3
   },
   "file_extension": ".py",
   "mimetype": "text/x-python",
   "name": "python",
   "nbconvert_exporter": "python",
   "pygments_lexer": "ipython3",
   "version": "3.11.7"
  },
  "widgets": {
   "application/vnd.jupyter.widget-state+json": {
    "state": {},
    "version_major": 2,
    "version_minor": 0
   }
  }
 },
 "nbformat": 4,
 "nbformat_minor": 5
}
