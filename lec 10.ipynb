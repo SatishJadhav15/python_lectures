{
 "cells": [
  {
   "cell_type": "markdown",
   "id": "9626b442-0f89-47ef-87e0-19e9a324e769",
   "metadata": {},
   "source": [
    " # Creating a dictionary"
   ]
  },
  {
   "cell_type": "code",
   "execution_count": 29,
   "id": "c15a93e2-cb74-4f9a-a0d0-071a08ce0aed",
   "metadata": {},
   "outputs": [],
   "source": [
    "a = { \"ID\" : \"abc1123\",\n",
    "     \"name\" : \"satish\",\n",
    "     \"year\" : 2001 ,\n",
    "     \"year\" : 2000 ,       # duplicates are not allowed it takes recent value\n",
    "       12 :5                # numbers are also applicable\n",
    "     \n",
    "\n",
    "}"
   ]
  },
  {
   "cell_type": "code",
   "execution_count": 28,
   "id": "d968790e-ace9-4a4f-bd08-d49ab9f44a49",
   "metadata": {},
   "outputs": [
    {
     "name": "stdout",
     "output_type": "stream",
     "text": [
      "{'ID': 'abc1123', 'name': 'satish', 'year': 2000, 12: 5}\n",
      "<class 'dict'>\n"
     ]
    }
   ],
   "source": [
    "print(a)\n",
    "print(type(a))"
   ]
  },
  {
   "cell_type": "markdown",
   "id": "7e471871-1581-43bf-957d-661ef69751b4",
   "metadata": {},
   "source": [
    "# length"
   ]
  },
  {
   "cell_type": "code",
   "execution_count": 6,
   "id": "a96a425e-5167-4d87-b35b-7125be5d310b",
   "metadata": {},
   "outputs": [
    {
     "name": "stdout",
     "output_type": "stream",
     "text": [
      "3\n"
     ]
    }
   ],
   "source": [
    "a = { \"ID\" : \"abc1123\",\n",
    "     \"name\" : \"satish\",\n",
    "     \"year\" : 2001 }\n",
    "print(len(a))"
   ]
  },
  {
   "cell_type": "code",
   "execution_count": 9,
   "id": "ffd207b9-6918-4358-847b-dbb81d5d1e23",
   "metadata": {},
   "outputs": [
    {
     "name": "stdout",
     "output_type": "stream",
     "text": [
      "{'ID': 'abc1123', 'name': 'satish', 'year': 2001, 'a': [552, 85, 55], 'b': (54, -555, 2.588), 'c': True}\n"
     ]
    }
   ],
   "source": [
    "dict = { \"ID\" : \"abc1123\",\n",
    "     \"name\" : \"satish\",\n",
    "     \"year\" : 2001, \"a\": [552,85,55], \"b\": (54,-555,2.588) , \"c\": True}\n",
    "print(dict)"
   ]
  },
  {
   "cell_type": "code",
   "execution_count": 7,
   "id": "eb547d20-6046-44f9-b4a5-cd5a7b414f5e",
   "metadata": {},
   "outputs": [
    {
     "name": "stdout",
     "output_type": "stream",
     "text": [
      "3\n"
     ]
    }
   ],
   "source": [
    "a = { \"ID\" : \"abc1123\",\n",
    "     \"name\" : \"satish\",\n",
    "     \"year\" : 2001 ,\n",
    "     \"year\" : 2000 }\n",
    "print(len(a))"
   ]
  },
  {
   "cell_type": "code",
   "execution_count": 11,
   "id": "d491dd54-8b61-4d21-8d71-946290033a20",
   "metadata": {},
   "outputs": [
    {
     "name": "stdout",
     "output_type": "stream",
     "text": [
      "abc1123\n",
      "abc1123\n"
     ]
    }
   ],
   "source": [
    "print(dict[\"ID\"])\n",
    "print(dict.get(\"ID\"))"
   ]
  },
  {
   "cell_type": "code",
   "execution_count": 12,
   "id": "21cc9926-86a5-4c9d-a924-baa83540c7cb",
   "metadata": {},
   "outputs": [],
   "source": [
    "dict = { \"ID\" : \"abc1123\",\n",
    "     \"name\" : \"satish\",\n",
    "         \"year\" : 2001 }\n"
   ]
  },
  {
   "cell_type": "code",
   "execution_count": 14,
   "id": "b4b5f93d-fd3d-4495-b92f-477925e6ab75",
   "metadata": {},
   "outputs": [],
   "source": [
    "x = dict.keys()"
   ]
  },
  {
   "cell_type": "code",
   "execution_count": 15,
   "id": "afbfdb8f-da82-4023-a8b3-bbfd9cd9098c",
   "metadata": {},
   "outputs": [
    {
     "data": {
      "text/plain": [
       "dict_keys(['ID', 'name', 'year'])"
      ]
     },
     "execution_count": 15,
     "metadata": {},
     "output_type": "execute_result"
    }
   ],
   "source": [
    "x"
   ]
  },
  {
   "cell_type": "code",
   "execution_count": 1,
   "id": "9cf8e2c5-b962-4ac2-a46f-ba374cccbd1a",
   "metadata": {},
   "outputs": [
    {
     "ename": "TypeError",
     "evalue": "unbound method dict.values() needs an argument",
     "output_type": "error",
     "traceback": [
      "\u001b[1;31m---------------------------------------------------------------------------\u001b[0m",
      "\u001b[1;31mTypeError\u001b[0m                                 Traceback (most recent call last)",
      "Cell \u001b[1;32mIn[1], line 1\u001b[0m\n\u001b[1;32m----> 1\u001b[0m y \u001b[38;5;241m=\u001b[39m \u001b[38;5;28mdict\u001b[39m\u001b[38;5;241m.\u001b[39mvalues()\n",
      "\u001b[1;31mTypeError\u001b[0m: unbound method dict.values() needs an argument"
     ]
    }
   ],
   "source": [
    "y = dict.values()"
   ]
  },
  {
   "cell_type": "code",
   "execution_count": 18,
   "id": "e52415ad-589d-48ca-9334-473e6a72f6c2",
   "metadata": {},
   "outputs": [
    {
     "data": {
      "text/plain": [
       "dict_values(['abc1123', 'satish', 2001])"
      ]
     },
     "execution_count": 18,
     "metadata": {},
     "output_type": "execute_result"
    }
   ],
   "source": [
    "y"
   ]
  },
  {
   "cell_type": "code",
   "execution_count": 19,
   "id": "e430a89d-a59f-4859-a31e-03b92f34ae04",
   "metadata": {},
   "outputs": [
    {
     "name": "stdout",
     "output_type": "stream",
     "text": [
      "{'ID': 'abc1123', 'name': 'satish', 'year': 2023}\n"
     ]
    }
   ],
   "source": [
    "dict = { \"ID\" : \"abc1123\",\n",
    "     \"name\" : \"satish\",\n",
    "     \"year\" : 2001}\n",
    "dict[\"year\"] = 2023\n",
    "print(dict)"
   ]
  },
  {
   "cell_type": "code",
   "execution_count": 21,
   "id": "82164b1e-2849-4880-a524-4ecff24cd1cf",
   "metadata": {},
   "outputs": [
    {
     "ename": "SyntaxError",
     "evalue": "invalid syntax (1870762373.py, line 4)",
     "output_type": "error",
     "traceback": [
      "\u001b[1;36m  Cell \u001b[1;32mIn[21], line 4\u001b[1;36m\u001b[0m\n\u001b[1;33m    dict.update(\"age\": \"23\")\u001b[0m\n\u001b[1;37m                     ^\u001b[0m\n\u001b[1;31mSyntaxError\u001b[0m\u001b[1;31m:\u001b[0m invalid syntax\n"
     ]
    }
   ],
   "source": [
    "dict = { \"ID\" : \"abc1123\",\n",
    "     \"name\" : \"satish\",\n",
    "         \"year\" : 2001 }\n",
    "dict.update(\"age\": 33)\n",
    "print(dict)"
   ]
  },
  {
   "cell_type": "code",
   "execution_count": 23,
   "id": "25b564c4-bc5f-4971-9238-ee15c5032e26",
   "metadata": {},
   "outputs": [
    {
     "name": "stdout",
     "output_type": "stream",
     "text": [
      "{'ID': 'abc1123', 'name': 'satish', 'year': 2001, 'age': 33}\n"
     ]
    }
   ],
   "source": [
    "dict = { \"ID\" : \"abc1123\",\n",
    "     \"name\" : \"satish\",\n",
    "         \"year\" : 2001 }\n",
    "dict.update({\"age\": 33})\n",
    "print(dict)"
   ]
  },
  {
   "cell_type": "markdown",
   "id": "4ead1e5d-651a-47f2-bea4-c90caa053305",
   "metadata": {},
   "source": [
    "# delete the values"
   ]
  },
  {
   "cell_type": "code",
   "execution_count": 24,
   "id": "265e5511-510b-4360-a679-1c400d060504",
   "metadata": {},
   "outputs": [
    {
     "name": "stdout",
     "output_type": "stream",
     "text": [
      "{'ID': 'abc1123', 'year': 2001}\n"
     ]
    }
   ],
   "source": [
    "a = dict = { \"ID\" : \"abc1123\",\n",
    "     \"name\" : \"satish\",\n",
    "         \"year\" : 2001 }\n",
    "a.pop(\"name\")\n",
    "print(a)"
   ]
  },
  {
   "cell_type": "code",
   "execution_count": 25,
   "id": "5d6e79f9-9cca-49e0-b6e6-7b376e7cc5e3",
   "metadata": {},
   "outputs": [
    {
     "name": "stdout",
     "output_type": "stream",
     "text": [
      "{'ID': 'abc1123', 'year': 2001}\n"
     ]
    }
   ],
   "source": [
    "dict = { \"ID\" : \"abc1123\",\n",
    "     \"name\" : \"satish\",\n",
    "         \"year\" : 2001 }\n",
    "del dict[\"name\"]\n",
    "print(dict)"
   ]
  },
  {
   "cell_type": "code",
   "execution_count": 26,
   "id": "6fe7c4bd-f147-4fb1-b103-c660e80fd907",
   "metadata": {},
   "outputs": [
    {
     "name": "stdout",
     "output_type": "stream",
     "text": [
      "{}\n"
     ]
    }
   ],
   "source": [
    "dict = { \"ID\" : \"abc1123\",\n",
    "     \"name\" : \"satish\",\n",
    "         \"year\" : 2001 }\n",
    "dict.clear()\n",
    "print(dict)"
   ]
  },
  {
   "cell_type": "code",
   "execution_count": 30,
   "id": "29486a36-f94c-44af-81b6-079d6312d248",
   "metadata": {},
   "outputs": [
    {
     "name": "stdout",
     "output_type": "stream",
     "text": [
      "{1: 10, 2: 20, 3: 30, 4: 40, 5: 50, 6: 60}\n"
     ]
    }
   ],
   "source": [
    "dict1 = {1:10,2:20}\n",
    "dict2 = {3:30,4:40}\n",
    "dict3 = {5:50,6:60}\n",
    "dict4 ={}\n",
    "for d in (dict1 ,dict2, dict3):dict4.update(d)\n",
    "print(dict4)"
   ]
  },
  {
   "cell_type": "code",
   "execution_count": 1,
   "id": "fc221c63-b4bd-4419-8245-67b87ffc0594",
   "metadata": {},
   "outputs": [
    {
     "name": "stdin",
     "output_type": "stream",
     "text": [
      "Numbers  12\n"
     ]
    },
    {
     "name": "stdout",
     "output_type": "stream",
     "text": [
      "{1: 1, 2: 4, 3: 9, 4: 16, 5: 25, 6: 36, 7: 49, 8: 64, 9: 81, 10: 100, 11: 121}\n"
     ]
    }
   ],
   "source": [
    "d = dict()\n",
    "n= int(input(\"Numbers \",))\n",
    "for x in range(1,n):\n",
    "    d[x]=x**2\n",
    "print(d)\n",
    "    "
   ]
  },
  {
   "cell_type": "code",
   "execution_count": null,
   "id": "786249a6-4c4a-4bb8-a3ed-d2f011300224",
   "metadata": {},
   "outputs": [],
   "source": []
  },
  {
   "cell_type": "code",
   "execution_count": null,
   "id": "4deb0eb1-fc07-4415-80ed-094663dd8302",
   "metadata": {},
   "outputs": [],
   "source": []
  },
  {
   "cell_type": "code",
   "execution_count": 6,
   "id": "ed71c063-ba71-4577-beb6-8c9870f358fa",
   "metadata": {},
   "outputs": [
    {
     "name": "stdin",
     "output_type": "stream",
     "text": [
      "Enter a key value:  satish\n"
     ]
    },
    {
     "name": "stdout",
     "output_type": "stream",
     "text": [
      "no\n"
     ]
    }
   ],
   "source": [
    "a = { \"ID\" : \"abc1123\",\n",
    "     \"name\" : \"satish\",\n",
    "     \"year\" : 2001 ,\n",
    "     \"year\" : 2000 }\n",
    "x = input(\"Enter a key value: \",)\n",
    "if x in a:\n",
    "    print(\"yes\")\n",
    "else:\n",
    "    print(\"no\")\n"
   ]
  },
  {
   "cell_type": "code",
   "execution_count": 48,
   "id": "6ba227e1-501b-4d60-aaee-11a1d404e135",
   "metadata": {},
   "outputs": [
    {
     "name": "stdin",
     "output_type": "stream",
     "text": [
      "Enter a key value age\n"
     ]
    },
    {
     "name": "stdout",
     "output_type": "stream",
     "text": [
      "no\n"
     ]
    }
   ],
   "source": [
    "a = { \"ID\" : \"abc1123\",\n",
    "     \"name\" : \"satish\",\n",
    "     \"year\" : 2001 ,\n",
    "     \"year\" : 2000 }\n",
    "x = input(\"Enter a key value\",)\n",
    "if x in a:\n",
    "    print(\"yes\")\n",
    "else:\n",
    "    print(\"no\")"
   ]
  },
  {
   "cell_type": "code",
   "execution_count": 50,
   "id": "9a2ab0dd-59d6-45af-ae75-cf86d1c30ebc",
   "metadata": {},
   "outputs": [],
   "source": [
    "a = { \"ID\" : \"abc1123\",\n",
    "     \"name\" : \"satish\",\n",
    "     \"year\" : 2001 ,\n",
    "     \"year\" : 2000 }\n",
    "def key(x):\n",
    "    if x in a:\n",
    "        print(\"present\")\n",
    "    else:\n",
    "        print(\"no\")"
   ]
  },
  {
   "cell_type": "code",
   "execution_count": 51,
   "id": "a2e9f3ac-cab8-413c-b150-70fd6a7f59a9",
   "metadata": {},
   "outputs": [
    {
     "name": "stdout",
     "output_type": "stream",
     "text": [
      "present\n"
     ]
    }
   ],
   "source": [
    "key(\"year\")"
   ]
  },
  {
   "cell_type": "code",
   "execution_count": 52,
   "id": "0f02edb8-e5d9-4b8f-be28-4fc80f985d3a",
   "metadata": {},
   "outputs": [
    {
     "name": "stdout",
     "output_type": "stream",
     "text": [
      "present\n"
     ]
    }
   ],
   "source": [
    "key(\"ID\")"
   ]
  },
  {
   "cell_type": "code",
   "execution_count": null,
   "id": "99eaba2e-fa59-4947-9699-b37acb65da76",
   "metadata": {},
   "outputs": [],
   "source": []
  },
  {
   "cell_type": "code",
   "execution_count": 7,
   "id": "c9725836-8733-4aae-abea-fdef6173ae7b",
   "metadata": {},
   "outputs": [
    {
     "name": "stdin",
     "output_type": "stream",
     "text": [
      "Numbers  100\n"
     ]
    },
    {
     "name": "stdout",
     "output_type": "stream",
     "text": [
      "{1: 1, 2: 4, 3: 9, 4: 16, 5: 25, 6: 36, 7: 49, 8: 64, 9: 81, 10: 100, 11: 121, 12: 144, 13: 169, 14: 196, 15: 225, 16: 256, 17: 289, 18: 324, 19: 361, 20: 400, 21: 441, 22: 484, 23: 529, 24: 576, 25: 625, 26: 676, 27: 729, 28: 784, 29: 841, 30: 900, 31: 961, 32: 1024, 33: 1089, 34: 1156, 35: 1225, 36: 1296, 37: 1369, 38: 1444, 39: 1521, 40: 1600, 41: 1681, 42: 1764, 43: 1849, 44: 1936, 45: 2025, 46: 2116, 47: 2209, 48: 2304, 49: 2401, 50: 2500, 51: 2601, 52: 2704, 53: 2809, 54: 2916, 55: 3025, 56: 3136, 57: 3249, 58: 3364, 59: 3481, 60: 3600, 61: 3721, 62: 3844, 63: 3969, 64: 4096, 65: 4225, 66: 4356, 67: 4489, 68: 4624, 69: 4761, 70: 4900, 71: 5041, 72: 5184, 73: 5329, 74: 5476, 75: 5625, 76: 5776, 77: 5929, 78: 6084, 79: 6241, 80: 6400, 81: 6561, 82: 6724, 83: 6889, 84: 7056, 85: 7225, 86: 7396, 87: 7569, 88: 7744, 89: 7921, 90: 8100, 91: 8281, 92: 8464, 93: 8649, 94: 8836, 95: 9025, 96: 9216, 97: 9409, 98: 9604, 99: 9801}\n"
     ]
    }
   ],
   "source": [
    "d = dict()\n",
    "n= int(input(\"Numbers \",))\n",
    "for x in range(1,n):\n",
    "    d[x]=x**2\n",
    "print(d)"
   ]
  },
  {
   "cell_type": "code",
   "execution_count": null,
   "id": "1ce27d59-2c7a-4277-8955-228658efca19",
   "metadata": {},
   "outputs": [],
   "source": []
  }
 ],
 "metadata": {
  "kernelspec": {
   "display_name": "Python 3 (ipykernel)",
   "language": "python",
   "name": "python3"
  },
  "language_info": {
   "codemirror_mode": {
    "name": "ipython",
    "version": 3
   },
   "file_extension": ".py",
   "mimetype": "text/x-python",
   "name": "python",
   "nbconvert_exporter": "python",
   "pygments_lexer": "ipython3",
   "version": "3.11.7"
  },
  "widgets": {
   "application/vnd.jupyter.widget-state+json": {
    "state": {},
    "version_major": 2,
    "version_minor": 0
   }
  }
 },
 "nbformat": 4,
 "nbformat_minor": 5
}
