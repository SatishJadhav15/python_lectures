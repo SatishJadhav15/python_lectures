{
 "cells": [
  {
   "cell_type": "markdown",
   "id": "84d2288f-9a06-4cb4-9ea6-cab9697194eb",
   "metadata": {},
   "source": [
    "# Operators"
   ]
  },
  {
   "cell_type": "code",
   "execution_count": 1,
   "id": "3f720d71-d1bf-4d3c-8255-3a35cc7c0905",
   "metadata": {},
   "outputs": [],
   "source": [
    "# everthing is not not written because iit is easy"
   ]
  },
  {
   "cell_type": "code",
   "execution_count": 2,
   "id": "e54ded1f-06c1-4f0b-829f-e34390a43cd3",
   "metadata": {},
   "outputs": [
    {
     "name": "stdout",
     "output_type": "stream",
     "text": [
      "112.53462603878117\n"
     ]
    }
   ],
   "source": [
    "w = 65\n",
    "h = .76\n",
    "BMI = w/(h**2)\n",
    "print(BMI)"
   ]
  },
  {
   "cell_type": "markdown",
   "id": "21e021eb-5c49-44f6-929c-c6ed94c41082",
   "metadata": {},
   "source": [
    "# Boolean opearator"
   ]
  },
  {
   "cell_type": "code",
   "execution_count": 3,
   "id": "535e1ade-6481-4452-80f2-d23a023b7688",
   "metadata": {},
   "outputs": [],
   "source": [
    "# True or False"
   ]
  },
  {
   "cell_type": "markdown",
   "id": "f96aa0d0-d80b-4df2-a4a8-b9163c6cb918",
   "metadata": {},
   "source": [
    "# comparison operator"
   ]
  },
  {
   "cell_type": "code",
   "execution_count": 4,
   "id": "d1ed596a-47bd-450e-9936-e65edb8db730",
   "metadata": {},
   "outputs": [
    {
     "name": "stdout",
     "output_type": "stream",
     "text": [
      "True\n"
     ]
    }
   ],
   "source": [
    "a =5\n",
    "b=5\n",
    "print(a==b)"
   ]
  },
  {
   "cell_type": "code",
   "execution_count": 5,
   "id": "34a9b0e4-2ec9-4427-80c7-9c3eb8114971",
   "metadata": {},
   "outputs": [
    {
     "name": "stdout",
     "output_type": "stream",
     "text": [
      "False\n"
     ]
    }
   ],
   "source": [
    "a =5\n",
    "b=58456\n",
    "print(a==b)"
   ]
  },
  {
   "cell_type": "code",
   "execution_count": 6,
   "id": "21f96eea-0120-4cb4-96f1-48f13a35c07d",
   "metadata": {},
   "outputs": [
    {
     "name": "stdout",
     "output_type": "stream",
     "text": [
      "False\n"
     ]
    }
   ],
   "source": [
    "a =5\n",
    "b=5\n",
    "print(a!=b)"
   ]
  },
  {
   "cell_type": "code",
   "execution_count": 7,
   "id": "ad0260ae-9f94-4327-9631-d782331aad5e",
   "metadata": {},
   "outputs": [
    {
     "name": "stdout",
     "output_type": "stream",
     "text": [
      "True\n"
     ]
    }
   ],
   "source": [
    "a =5\n",
    "b=56\n",
    "print(a!=b)"
   ]
  },
  {
   "cell_type": "markdown",
   "id": "7720ddb9-1b23-4dd9-89af-5d00ad160044",
   "metadata": {},
   "source": [
    " # logical operator"
   ]
  },
  {
   "cell_type": "code",
   "execution_count": 10,
   "id": "ff68da8d-66a0-46e9-87a5-7cf3be414205",
   "metadata": {},
   "outputs": [
    {
     "name": "stdout",
     "output_type": "stream",
     "text": [
      "False\n"
     ]
    }
   ],
   "source": [
    "a = True\n",
    "b = False\n",
    "print(a and b)"
   ]
  },
  {
   "cell_type": "code",
   "execution_count": 11,
   "id": "62a296d2-8219-49f4-b76a-1fd56d3ee0a7",
   "metadata": {},
   "outputs": [
    {
     "name": "stdout",
     "output_type": "stream",
     "text": [
      "True\n"
     ]
    }
   ],
   "source": [
    "a = True\n",
    "b = False\n",
    "print(a or b)"
   ]
  },
  {
   "cell_type": "code",
   "execution_count": 12,
   "id": "a24b51dd-b0c5-4d8e-9c57-d1374627edaa",
   "metadata": {},
   "outputs": [
    {
     "name": "stdout",
     "output_type": "stream",
     "text": [
      "True\n"
     ]
    }
   ],
   "source": [
    "a = True\n",
    "b = False\n",
    "print(a is not b)"
   ]
  },
  {
   "cell_type": "code",
   "execution_count": 13,
   "id": "5f92b1b9-49ad-4855-a0b1-450d85cb7d4d",
   "metadata": {},
   "outputs": [
    {
     "name": "stdout",
     "output_type": "stream",
     "text": [
      "False\n"
     ]
    }
   ],
   "source": [
    "a = True\n",
    "b = False\n",
    "print(a is b)"
   ]
  },
  {
   "cell_type": "code",
   "execution_count": 15,
   "id": "3bff38fa-90e5-4dcd-8207-2031b08b0235",
   "metadata": {},
   "outputs": [
    {
     "name": "stdout",
     "output_type": "stream",
     "text": [
      "False\n"
     ]
    }
   ],
   "source": [
    "a = True\n",
    "print(not a)   # gives opposite value"
   ]
  },
  {
   "cell_type": "code",
   "execution_count": 18,
   "id": "2e917462-1047-4e55-bfe3-d582f89a2d88",
   "metadata": {},
   "outputs": [
    {
     "name": "stdin",
     "output_type": "stream",
     "text": [
      "enter 5\n"
     ]
    }
   ],
   "source": [
    "a = input(\"enter\", )"
   ]
  },
  {
   "cell_type": "code",
   "execution_count": 28,
   "id": "a48e0e16-fc0d-43b2-b486-af71cb638479",
   "metadata": {},
   "outputs": [
    {
     "name": "stdin",
     "output_type": "stream",
     "text": [
      "pro1 2\n",
      "pro2 5\n",
      "q1 6\n",
      "q2 9\n"
     ]
    },
    {
     "name": "stdout",
     "output_type": "stream",
     "text": [
      "12\n"
     ]
    }
   ],
   "source": [
    "pro1 = int(input(\"pro1\", ))\n",
    "pro2 = int(input(\"pro2\", ))\n",
    "q1 = int(input(\"q1\", ))\n",
    "q2 = int(input(\"q2\", ))\n",
    "total_1 = pro1 * q1\n",
    "print(total_1)"
   ]
  },
  {
   "cell_type": "code",
   "execution_count": 29,
   "id": "6eca8c6f-e846-4cdb-8128-bab6086e7177",
   "metadata": {},
   "outputs": [
    {
     "name": "stdout",
     "output_type": "stream",
     "text": [
      "True\n"
     ]
    }
   ],
   "source": [
    "thr = 12\n",
    "si = 4\n",
    "print(thr>si)"
   ]
  },
  {
   "cell_type": "code",
   "execution_count": 33,
   "id": "41b1afdd-a406-4331-9a92-c7c5a6ff28c4",
   "metadata": {},
   "outputs": [
    {
     "name": "stdin",
     "output_type": "stream",
     "text": [
      "Enter radius of circle(cm) 12\n"
     ]
    },
    {
     "name": "stdout",
     "output_type": "stream",
     "text": [
      "452.16 cm**2\n"
     ]
    }
   ],
   "source": [
    "a = float(input(\"Enter radius of circle(cm)\", ))\n",
    "Area = 3.14*(a**2)\n",
    "print(Area,\"cm**2\")"
   ]
  },
  {
   "cell_type": "code",
   "execution_count": null,
   "id": "63078b8f-df32-4888-b1e8-3d9e434122f7",
   "metadata": {},
   "outputs": [],
   "source": []
  }
 ],
 "metadata": {
  "kernelspec": {
   "display_name": "Python 3 (ipykernel)",
   "language": "python",
   "name": "python3"
  },
  "language_info": {
   "codemirror_mode": {
    "name": "ipython",
    "version": 3
   },
   "file_extension": ".py",
   "mimetype": "text/x-python",
   "name": "python",
   "nbconvert_exporter": "python",
   "pygments_lexer": "ipython3",
   "version": "3.11.7"
  },
  "widgets": {
   "application/vnd.jupyter.widget-state+json": {
    "state": {},
    "version_major": 2,
    "version_minor": 0
   }
  }
 },
 "nbformat": 4,
 "nbformat_minor": 5
}
