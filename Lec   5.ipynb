{
 "cells": [
  {
   "cell_type": "markdown",
   "id": "bcf9f2b9-1c0e-4841-aa47-dda98bc5cabd",
   "metadata": {},
   "source": [
    "# bulit in functions"
   ]
  },
  {
   "cell_type": "code",
   "execution_count": 1,
   "id": "0f18ae2b-d22e-4a5c-8bac-fd6520227c6c",
   "metadata": {},
   "outputs": [],
   "source": [
    "# binary functins\n",
    "# {ob} is  a in built part "
   ]
  },
  {
   "cell_type": "code",
   "execution_count": 4,
   "id": "1289955b-4b7a-4cd4-9d67-12352f74bc8f",
   "metadata": {},
   "outputs": [
    {
     "name": "stdout",
     "output_type": "stream",
     "text": [
      "0b10\n"
     ]
    }
   ],
   "source": [
    "a = 2\n",
    "print(bin(a))"
   ]
  },
  {
   "cell_type": "code",
   "execution_count": 5,
   "id": "2fab0caf-5b00-45c0-9cd5-b7567e04fd68",
   "metadata": {},
   "outputs": [
    {
     "name": "stdout",
     "output_type": "stream",
     "text": [
      "0b111000111111101101010010111001\n"
     ]
    }
   ],
   "source": [
    "a = 956224697\n",
    "print(bin(a))"
   ]
  },
  {
   "cell_type": "code",
   "execution_count": 7,
   "id": "8626f63b-b1cc-4cdf-ac88-a1c1dda61a7a",
   "metadata": {},
   "outputs": [
    {
     "name": "stdout",
     "output_type": "stream",
     "text": [
      "[5, 895, 788, 87, 56]\n",
      "1831\n"
     ]
    }
   ],
   "source": [
    "my_list = [5,895,788,87,56]\n",
    "a= sum(my_list)\n",
    "print(my_list)\n",
    "print(a)"
   ]
  },
  {
   "cell_type": "code",
   "execution_count": 8,
   "id": "0f1d4126-e934-4972-9e24-b47eba4fe7ce",
   "metadata": {},
   "outputs": [
    {
     "name": "stdout",
     "output_type": "stream",
     "text": [
      "35\n"
     ]
    }
   ],
   "source": [
    "my_list = [1,2,3,4,5]\n",
    "starting_value = 20\n",
    "print(sum(my_list,starting_value))"
   ]
  },
  {
   "cell_type": "markdown",
   "id": "3aefbc79-f5d3-4141-ba86-8afa12c39a8f",
   "metadata": {},
   "source": [
    "# Eval function"
   ]
  },
  {
   "cell_type": "code",
   "execution_count": 12,
   "id": "60c97b8d-a6f2-4023-8f22-8c4c67f6947e",
   "metadata": {},
   "outputs": [
    {
     "name": "stdout",
     "output_type": "stream",
     "text": [
      " 5/2 +2 \n",
      "4.5\n"
     ]
    }
   ],
   "source": [
    "a =(\" 5/2 +2 \")\n",
    "print(a)\n",
    "print(eval(a))"
   ]
  },
  {
   "cell_type": "code",
   "execution_count": 14,
   "id": "896019a3-7d0b-48b1-88eb-4e4f8e0a5c20",
   "metadata": {},
   "outputs": [
    {
     "name": "stdout",
     "output_type": "stream",
     "text": [
      "17\n"
     ]
    }
   ],
   "source": [
    "a = 2\n",
    "b = 5\n",
    "exp = \"a+b +10\"\n",
    "print(eval(exp))"
   ]
  },
  {
   "cell_type": "markdown",
   "id": "c9b19897-d264-4003-9d3c-ddba28e2ba45",
   "metadata": {},
   "source": [
    " # Help function"
   ]
  },
  {
   "cell_type": "code",
   "execution_count": 17,
   "id": "5b219682-18a6-4b4e-a528-9f95d2022c53",
   "metadata": {},
   "outputs": [
    {
     "name": "stdout",
     "output_type": "stream",
     "text": [
      "Help on built-in function print in module builtins:\n",
      "\n",
      "print(*args, sep=' ', end='\\n', file=None, flush=False)\n",
      "    Prints the values to a stream, or to sys.stdout by default.\n",
      "    \n",
      "    sep\n",
      "      string inserted between values, default a space.\n",
      "    end\n",
      "      string appended after the last value, default a newline.\n",
      "    file\n",
      "      a file-like object (stream); defaults to the current sys.stdout.\n",
      "    flush\n",
      "      whether to forcibly flush the stream.\n",
      "\n"
     ]
    }
   ],
   "source": [
    "help(print)"
   ]
  },
  {
   "cell_type": "markdown",
   "id": "798ce275-53d7-44fe-86ef-d81b56fed53e",
   "metadata": {},
   "source": [
    "# Input fuction"
   ]
  },
  {
   "cell_type": "code",
   "execution_count": 25,
   "id": "d1398591-61d8-4db8-9c6c-3a8553298367",
   "metadata": {},
   "outputs": [],
   "source": [
    "# input function is always of string type"
   ]
  },
  {
   "cell_type": "code",
   "execution_count": 21,
   "id": "fdde81f4-0d93-4641-b597-f5585bea2def",
   "metadata": {},
   "outputs": [
    {
     "name": "stdin",
     "output_type": "stream",
     "text": [
      "Enter your name : Satish\n"
     ]
    },
    {
     "name": "stdout",
     "output_type": "stream",
     "text": [
      "Entnered name is: Satish\n"
     ]
    }
   ],
   "source": [
    "a = input(\"Enter your name :\")\n",
    "print('Entnered name is:', a)"
   ]
  },
  {
   "cell_type": "code",
   "execution_count": 24,
   "id": "0226c211-28e4-44a7-986c-f5bd516319e8",
   "metadata": {},
   "outputs": [
    {
     "name": "stdin",
     "output_type": "stream",
     "text": [
      " 12\n"
     ]
    },
    {
     "name": "stdout",
     "output_type": "stream",
     "text": [
      "<class 'str'>\n"
     ]
    }
   ],
   "source": [
    "a = input()\n",
    "print(type(a))"
   ]
  },
  {
   "cell_type": "code",
   "execution_count": 28,
   "id": "d666ab92-2f08-4333-87e3-35da51e7426f",
   "metadata": {},
   "outputs": [
    {
     "name": "stdin",
     "output_type": "stream",
     "text": [
      "enter 1st : 12\n",
      "enter 2nd : 2\n"
     ]
    },
    {
     "name": "stdout",
     "output_type": "stream",
     "text": [
      "14\n"
     ]
    }
   ],
   "source": [
    "num1 = int(input('enter 1st :',))\n",
    "num2 = int(input('enter 2nd :',))     # for adding int fuction is important to use\n",
    "sum = num1 + num2\n",
    "print(sum)"
   ]
  },
  {
   "cell_type": "code",
   "execution_count": 29,
   "id": "0a0cc1a5-7f30-4fd9-8290-20451aa6354a",
   "metadata": {},
   "outputs": [
    {
     "name": "stdin",
     "output_type": "stream",
     "text": [
      "enter 1st : 12\n",
      "enter 2nd : 2\n"
     ]
    },
    {
     "name": "stdout",
     "output_type": "stream",
     "text": [
      "122\n"
     ]
    }
   ],
   "source": [
    "num1 = input('enter 1st :',)   # see if int function is not used\n",
    "num2 = input('enter 2nd :',)\n",
    "sum = num1 + num2\n",
    "print(sum)"
   ]
  },
  {
   "cell_type": "code",
   "execution_count": 30,
   "id": "5a5594dc-4d51-494b-be49-a014690d982d",
   "metadata": {},
   "outputs": [
    {
     "name": "stdin",
     "output_type": "stream",
     "text": [
      "enter 1st : 12\n",
      "enter 2nd : 2\n"
     ]
    },
    {
     "name": "stdout",
     "output_type": "stream",
     "text": [
      "14\n"
     ]
    }
   ],
   "source": [
    "num1 = int(input('enter 1st :'))\n",
    "num2 = int(input('enter 2nd :'))     # for adding int fuction is important to use\n",
    "sum = num1 + num2\n",
    "print(sum)"
   ]
  },
  {
   "cell_type": "code",
   "execution_count": 31,
   "id": "dcd3b0c9-9c4e-41ee-beb7-c8e636f015fc",
   "metadata": {},
   "outputs": [
    {
     "name": "stdout",
     "output_type": "stream",
     "text": [
      "42\n"
     ]
    }
   ],
   "source": [
    "a =42\n",
    "print(abs(a))"
   ]
  },
  {
   "cell_type": "code",
   "execution_count": 3,
   "id": "ddb1c75c-c37e-4307-91ef-1fc8caac056f",
   "metadata": {},
   "outputs": [
    {
     "name": "stdout",
     "output_type": "stream",
     "text": [
      "8885555\n",
      "0\n"
     ]
    }
   ],
   "source": [
    "a = -8885555\n",
    "print(abs(a))\n",
    "b=-0\n",
    "print(abs(b))"
   ]
  },
  {
   "cell_type": "code",
   "execution_count": null,
   "id": "9844d40d-a34b-47ae-936f-c20661be922d",
   "metadata": {},
   "outputs": [],
   "source": [
    "b = int(input(\"no of students\",))\n",
    "a=b+1\n",
    "i=1\n",
    "while i in range(a):\n",
    "    print(\"Name of student\",i,input())\n",
    "    print(\"Age of student\",i,input())\n",
    "    i+=1"
   ]
  },
  {
   "cell_type": "code",
   "execution_count": null,
   "id": "68591538-aaac-44ae-addb-d413b00a3745",
   "metadata": {},
   "outputs": [],
   "source": [
    "b = int(input(\"no of students\",))\n",
    "a=b+1\n",
    "i=1\n",
    "while i in range(a):\n",
    "    print(\"Name of student\",i,input())\n",
    "    print(\"Age of student\",i,input())\n",
    "    i+=1"
   ]
  },
  {
   "cell_type": "code",
   "execution_count": 88,
   "id": "520f0b18-5d03-460d-b35a-b42ebe5dae1a",
   "metadata": {},
   "outputs": [
    {
     "name": "stdout",
     "output_type": "stream",
     "text": [
      "4\n"
     ]
    }
   ],
   "source": [
    "print(2+2)"
   ]
  },
  {
   "cell_type": "code",
   "execution_count": null,
   "id": "9568edfc-a8d0-4fa2-ad44-71d146ab8be4",
   "metadata": {},
   "outputs": [],
   "source": []
  }
 ],
 "metadata": {
  "kernelspec": {
   "display_name": "Python 3 (ipykernel)",
   "language": "python",
   "name": "python3"
  },
  "language_info": {
   "codemirror_mode": {
    "name": "ipython",
    "version": 3
   },
   "file_extension": ".py",
   "mimetype": "text/x-python",
   "name": "python",
   "nbconvert_exporter": "python",
   "pygments_lexer": "ipython3",
   "version": "3.11.7"
  },
  "widgets": {
   "application/vnd.jupyter.widget-state+json": {
    "state": {},
    "version_major": 2,
    "version_minor": 0
   }
  }
 },
 "nbformat": 4,
 "nbformat_minor": 5
}
