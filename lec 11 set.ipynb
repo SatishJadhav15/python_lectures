{
 "cells": [
  {
   "cell_type": "markdown",
   "id": "5fb690b2-edd4-4a92-b863-edd019380bd8",
   "metadata": {},
   "source": [
    "# Set in python"
   ]
  },
  {
   "cell_type": "markdown",
   "id": "6b62f481-3a2a-4b43-8db5-a1f0741a8373",
   "metadata": {},
   "source": [
    "set items are not in order or we can't define them on the basis of index"
   ]
  },
  {
   "cell_type": "code",
   "execution_count": 10,
   "id": "d29a06cf-86b3-46c9-bbcd-f6fabaffb1e4",
   "metadata": {},
   "outputs": [
    {
     "name": "stdout",
     "output_type": "stream",
     "text": [
      "{'cat', 5445, 122, 'dog'}\n"
     ]
    }
   ],
   "source": [
    "a=  {'cat', 122, 'dog',5445}\n",
    "print(a)"
   ]
  },
  {
   "cell_type": "markdown",
   "id": "c43af1b1-630a-4d6b-b50a-4ef064162b3f",
   "metadata": {},
   "source": [
    "# set items are unorderd"
   ]
  },
  {
   "cell_type": "code",
   "execution_count": null,
   "id": "5a1fa9a5-a03d-40f0-b22b-a1a915bbcc73",
   "metadata": {},
   "outputs": [],
   "source": []
  },
  {
   "cell_type": "code",
   "execution_count": 1,
   "id": "92b660e7-9811-4cde-b1c6-b2cf3eabd173",
   "metadata": {},
   "outputs": [
    {
     "name": "stdout",
     "output_type": "stream",
     "text": [
      "{'dog', 122, 5445, 'cat'}\n"
     ]
    }
   ],
   "source": [
    "a=  {'cat', 122, 'dog',5445}\n",
    "print(a)"
   ]
  },
  {
   "cell_type": "code",
   "execution_count": 2,
   "id": "b8f8ace6-9cec-45b2-91a2-fe1f322567fe",
   "metadata": {},
   "outputs": [
    {
     "ename": "TypeError",
     "evalue": "'set' object is not subscriptable",
     "output_type": "error",
     "traceback": [
      "\u001b[1;31m---------------------------------------------------------------------------\u001b[0m",
      "\u001b[1;31mTypeError\u001b[0m                                 Traceback (most recent call last)",
      "Cell \u001b[1;32mIn[2], line 1\u001b[0m\n\u001b[1;32m----> 1\u001b[0m \u001b[38;5;28mprint\u001b[39m(a[\u001b[38;5;241m1\u001b[39m])\n",
      "\u001b[1;31mTypeError\u001b[0m: 'set' object is not subscriptable"
     ]
    }
   ],
   "source": [
    "print(a[1])     "
   ]
  },
  {
   "cell_type": "markdown",
   "id": "fb091ccd-a84a-4ca2-aae7-2b4b6c32ac0d",
   "metadata": {},
   "source": [
    "# duplicates are not allowed"
   ]
  },
  {
   "cell_type": "code",
   "execution_count": 4,
   "id": "b13b7fe8-592c-4190-aed2-e8cbca3bccc0",
   "metadata": {},
   "outputs": [
    {
     "name": "stdout",
     "output_type": "stream",
     "text": [
      "{122, 5445, 'cat', 'dog'}\n"
     ]
    }
   ],
   "source": [
    "a =  {'cat', 122, 'dog',5445,'dog','cat'}\n",
    "print(a)"
   ]
  },
  {
   "cell_type": "markdown",
   "id": "ad0574ba-9551-4e4e-8912-fb06d1705c7c",
   "metadata": {},
   "source": [
    "# True and 1 consider as same"
   ]
  },
  {
   "cell_type": "code",
   "execution_count": 9,
   "id": "a5155669-1b9c-4a10-98fd-426d0f7e4ddd",
   "metadata": {},
   "outputs": [
    {
     "name": "stdout",
     "output_type": "stream",
     "text": [
      "{False, True, 5445, 122, 'cat', 'dog'}\n",
      "6\n"
     ]
    }
   ],
   "source": [
    "a=  {'cat', 122, 'dog',5445,'dog','cat', True, False, 1}\n",
    "print(a)\n",
    "print(len(a))"
   ]
  },
  {
   "cell_type": "code",
   "execution_count": 14,
   "id": "a3446692-e9cd-448e-830b-2e47c925ddcb",
   "metadata": {},
   "outputs": [
    {
     "name": "stdout",
     "output_type": "stream",
     "text": [
      "{False, True}\n"
     ]
    }
   ],
   "source": [
    "b = {True, False, True}\n",
    "print(b)"
   ]
  },
  {
   "cell_type": "code",
   "execution_count": 17,
   "id": "54e7fe25-3167-4e0a-ba69-c33ecd8654a9",
   "metadata": {},
   "outputs": [
    {
     "name": "stdout",
     "output_type": "stream",
     "text": [
      "{(122, 888, 885)}\n"
     ]
    }
   ],
   "source": [
    "a = {(122,888,885)}\n",
    "print(a)"
   ]
  },
  {
   "cell_type": "code",
   "execution_count": 3,
   "id": "8da298c0-c141-4c20-a8b2-b8de675bc821",
   "metadata": {},
   "outputs": [
    {
     "ename": "TypeError",
     "evalue": "unhashable type: 'list'",
     "output_type": "error",
     "traceback": [
      "\u001b[1;31m---------------------------------------------------------------------------\u001b[0m",
      "\u001b[1;31mTypeError\u001b[0m                                 Traceback (most recent call last)",
      "Cell \u001b[1;32mIn[3], line 1\u001b[0m\n\u001b[1;32m----> 1\u001b[0m b \u001b[38;5;241m=\u001b[39m {[\u001b[38;5;241m56\u001b[39m,\u001b[38;5;241m98\u001b[39m,\u001b[38;5;241m2225\u001b[39m]}\n\u001b[0;32m      2\u001b[0m \u001b[38;5;28mprint\u001b[39m(b)\n",
      "\u001b[1;31mTypeError\u001b[0m: unhashable type: 'list'"
     ]
    }
   ],
   "source": [
    "b = {[56,98,2225]}\n",
    "print(b)"
   ]
  },
  {
   "cell_type": "code",
   "execution_count": 19,
   "id": "561c3202-8f88-42c4-8c58-51ba132238f5",
   "metadata": {},
   "outputs": [
    {
     "ename": "TypeError",
     "evalue": "unhashable type: 'set'",
     "output_type": "error",
     "traceback": [
      "\u001b[1;31m---------------------------------------------------------------------------\u001b[0m",
      "\u001b[1;31mTypeError\u001b[0m                                 Traceback (most recent call last)",
      "Cell \u001b[1;32mIn[19], line 1\u001b[0m\n\u001b[1;32m----> 1\u001b[0m b \u001b[38;5;241m=\u001b[39m {{\u001b[38;5;241m4459\u001b[39m,\u001b[38;5;241m588\u001b[39m,\u001b[38;5;241m225\u001b[39m,\u001b[38;5;241m98\u001b[39m,\u001b[38;5;241m5558\u001b[39m,\u001b[38;5;241m7\u001b[39m}}     \n\u001b[0;32m      2\u001b[0m \u001b[38;5;28mprint\u001b[39m(b)\n",
      "\u001b[1;31mTypeError\u001b[0m: unhashable type: 'set'"
     ]
    }
   ],
   "source": [
    "b = {{4459,588,225,98,5558,7}}     \n",
    "print(b)"
   ]
  },
  {
   "cell_type": "code",
   "execution_count": 20,
   "id": "47759b74-1355-4698-9b2d-a7add7b4d4c5",
   "metadata": {},
   "outputs": [
    {
     "name": "stdout",
     "output_type": "stream",
     "text": [
      "{665, 555, 1548, 8879}\n"
     ]
    }
   ],
   "source": [
    "thisset = set((1548,665,8879,555))\n",
    "print(thisset)"
   ]
  },
  {
   "cell_type": "code",
   "execution_count": 21,
   "id": "5f1439e8-ca94-47c3-95ac-001c36f6227a",
   "metadata": {},
   "outputs": [
    {
     "name": "stdout",
     "output_type": "stream",
     "text": [
      "{}\n",
      "<class 'dict'>\n"
     ]
    }
   ],
   "source": [
    "a = {}\n",
    "print(a)\n",
    "print(type(a))"
   ]
  },
  {
   "cell_type": "code",
   "execution_count": 22,
   "id": "10d20ec2-f8da-4a86-8f74-668dc133ebe2",
   "metadata": {},
   "outputs": [
    {
     "name": "stdout",
     "output_type": "stream",
     "text": [
      "set()\n",
      "<class 'set'>\n"
     ]
    }
   ],
   "source": [
    "empty = set()\n",
    "print(empty)\n",
    "print(type(empty))"
   ]
  },
  {
   "cell_type": "markdown",
   "id": "68087d8b-7b5d-4d86-9d4a-1c577488c311",
   "metadata": {},
   "source": [
    "# Access items"
   ]
  },
  {
   "cell_type": "code",
   "execution_count": 24,
   "id": "0cabba21-7452-4ee4-82dc-5e53f84bb325",
   "metadata": {},
   "outputs": [
    {
     "name": "stdout",
     "output_type": "stream",
     "text": [
      "{'c', 'b', 'a', 'd'}\n",
      "c\n",
      "b\n",
      "a\n",
      "d\n"
     ]
    }
   ],
   "source": [
    "t = {\"a\", \"b\",\"c\",\"d\"}\n",
    "print(t)\n",
    "for x in t:\n",
    "    print(x)"
   ]
  },
  {
   "cell_type": "markdown",
   "id": "d7a862e6-4d57-4364-9248-506309b85315",
   "metadata": {},
   "source": [
    "# Check if item is present in set"
   ]
  },
  {
   "cell_type": "code",
   "execution_count": 30,
   "id": "cb630b79-f945-4a7f-81a3-3db2718d96e2",
   "metadata": {},
   "outputs": [
    {
     "name": "stdin",
     "output_type": "stream",
     "text": [
      "enter item  d\n"
     ]
    },
    {
     "name": "stdout",
     "output_type": "stream",
     "text": [
      "yes\n"
     ]
    }
   ],
   "source": [
    "t = {\"a\", \"b\",\"c\",\"d\"}\n",
    "x = input(\"enter item \",)\n",
    "if x in t:\n",
    "    print(\"yes\")\n",
    "else:\n",
    "    print(\"no\")"
   ]
  },
  {
   "cell_type": "code",
   "execution_count": 33,
   "id": "5b0bfaf3-564b-41c8-bb79-291794e44051",
   "metadata": {},
   "outputs": [
    {
     "name": "stdout",
     "output_type": "stream",
     "text": [
      "True\n"
     ]
    }
   ],
   "source": [
    "t = {\"a\", \"b\",\"c\",\"d\"}\n",
    "print(\"a\" in t)"
   ]
  },
  {
   "cell_type": "code",
   "execution_count": 34,
   "id": "ff44e62c-4f0d-4404-bda3-95981e8d0395",
   "metadata": {},
   "outputs": [
    {
     "name": "stdout",
     "output_type": "stream",
     "text": [
      "False\n"
     ]
    }
   ],
   "source": [
    "t = {\"a\", \"b\",\"c\",\"d\"}\n",
    "print(\"ab\" in t)"
   ]
  },
  {
   "cell_type": "markdown",
   "id": "bd8530a0-4f3a-49c0-9020-dcef747af800",
   "metadata": {},
   "source": [
    "# Add item"
   ]
  },
  {
   "cell_type": "code",
   "execution_count": 35,
   "id": "62415cdb-c3d0-4319-a654-4773a4684339",
   "metadata": {},
   "outputs": [
    {
     "name": "stdout",
     "output_type": "stream",
     "text": [
      "{5545, 'd', 'c', 'b', 'a'}\n"
     ]
    }
   ],
   "source": [
    "t = {\"a\", \"b\",\"c\",\"d\"}\n",
    "t.add(5545)\n",
    "print(t)"
   ]
  },
  {
   "cell_type": "code",
   "execution_count": 36,
   "id": "0441f03b-4aad-4c9e-a65b-3244246c35a7",
   "metadata": {},
   "outputs": [
    {
     "name": "stdout",
     "output_type": "stream",
     "text": [
      "{545, 'hello', 355, 5, 'python', 25}\n",
      "{545, 355, 5, 25}\n"
     ]
    }
   ],
   "source": [
    "a = {\"hello\", \"python\"}\n",
    "b = {355,545,25,5,5}\n",
    "\n",
    "a.update(b)\n",
    "print(a)\n",
    "print(b)"
   ]
  },
  {
   "cell_type": "markdown",
   "id": "85326419-c65f-44ce-9158-c8dff64d3857",
   "metadata": {},
   "source": [
    "# remove item"
   ]
  },
  {
   "cell_type": "code",
   "execution_count": 4,
   "id": "5929aa73-05da-476b-915c-2e4dad4e0462",
   "metadata": {},
   "outputs": [
    {
     "name": "stdout",
     "output_type": "stream",
     "text": [
      "{545, 355, 5, 'python', 25}\n"
     ]
    }
   ],
   "source": [
    "a = {545, 'hello', 355, 5, 'python', 25}\n",
    "a.remove(\"hello\")\n",
    "print(a)"
   ]
  },
  {
   "cell_type": "code",
   "execution_count": 43,
   "id": "a1ba58d2-40ae-4d1d-ad8f-c176a5a87d54",
   "metadata": {},
   "outputs": [
    {
     "name": "stdout",
     "output_type": "stream",
     "text": [
      "{'hello', 5, 'python', 59, 25}\n"
     ]
    }
   ],
   "source": [
    "a={59, 'hello', 355, 5, 'python', 25}\n",
    "a.pop()                # randomly removes any of items\n",
    "print(a)"
   ]
  },
  {
   "cell_type": "code",
   "execution_count": 45,
   "id": "5e3ff388-a81b-4a51-8d80-8d0164c84d28",
   "metadata": {},
   "outputs": [
    {
     "name": "stdout",
     "output_type": "stream",
     "text": [
      "set()\n"
     ]
    }
   ],
   "source": [
    "a = {545, 'hello', 355, 5, 'python', 25}\n",
    "a.clear()               # delete all items from set\n",
    "print(a)"
   ]
  },
  {
   "cell_type": "code",
   "execution_count": 5,
   "id": "39a8bd90-a85d-4c31-b5bf-80c72fdca1dc",
   "metadata": {},
   "outputs": [
    {
     "ename": "NameError",
     "evalue": "name 'a' is not defined",
     "output_type": "error",
     "traceback": [
      "\u001b[1;31m---------------------------------------------------------------------------\u001b[0m",
      "\u001b[1;31mNameError\u001b[0m                                 Traceback (most recent call last)",
      "Cell \u001b[1;32mIn[5], line 3\u001b[0m\n\u001b[0;32m      1\u001b[0m a \u001b[38;5;241m=\u001b[39m {\u001b[38;5;241m545\u001b[39m, \u001b[38;5;124m'\u001b[39m\u001b[38;5;124mhello\u001b[39m\u001b[38;5;124m'\u001b[39m, \u001b[38;5;241m355\u001b[39m, \u001b[38;5;241m5\u001b[39m, \u001b[38;5;124m'\u001b[39m\u001b[38;5;124mpython\u001b[39m\u001b[38;5;124m'\u001b[39m, \u001b[38;5;241m25\u001b[39m}\n\u001b[0;32m      2\u001b[0m \u001b[38;5;28;01mdel\u001b[39;00m a               \u001b[38;5;66;03m# delete  set memory\u001b[39;00m\n\u001b[1;32m----> 3\u001b[0m \u001b[38;5;28mprint\u001b[39m(a)\n",
      "\u001b[1;31mNameError\u001b[0m: name 'a' is not defined"
     ]
    }
   ],
   "source": [
    "a = {545, 'hello', 355, 5, 'python', 25}\n",
    "del a               # delete  set memory\n",
    "print(a)"
   ]
  },
  {
   "cell_type": "markdown",
   "id": "cc02619e-c72a-4474-8235-3f61a25ca927",
   "metadata": {},
   "source": [
    "#  Join two sets"
   ]
  },
  {
   "cell_type": "code",
   "execution_count": 8,
   "id": "f19d8151-c1e7-48ca-893f-8e143c265d1d",
   "metadata": {},
   "outputs": [
    {
     "name": "stdout",
     "output_type": "stream",
     "text": [
      "{1, 3, 4, 5, 'a', 'b'}\n",
      "{1}\n"
     ]
    }
   ],
   "source": [
    "a = {1,5,4,3}\n",
    "b = {\"a\",\"b\",1}\n",
    "x = a.union(b)\n",
    "y = a.intersection(b)\n",
    "print(x)\n",
    "print(y)"
   ]
  },
  {
   "cell_type": "code",
   "execution_count": null,
   "id": "f15436be-b69d-47ab-953b-031ab2e9a314",
   "metadata": {},
   "outputs": [],
   "source": []
  },
  {
   "cell_type": "code",
   "execution_count": 50,
   "id": "db9fe1be-92cd-4b9d-8779-78ab696af4b5",
   "metadata": {},
   "outputs": [
    {
     "name": "stdout",
     "output_type": "stream",
     "text": [
      "maximum value of set a\n",
      "88\n",
      "minimum value of set a\n",
      "4\n"
     ]
    }
   ],
   "source": [
    "a = {11,88,58,4}\n",
    "print('maximum value of set a')\n",
    "print(max(a))\n",
    "print('minimum value of set a')\n",
    "print(min(a))"
   ]
  },
  {
   "cell_type": "markdown",
   "id": "9331e97a-8a9c-4192-b482-e81b5c83525e",
   "metadata": {},
   "source": [
    "# common elements in both sets"
   ]
  },
  {
   "cell_type": "code",
   "execution_count": 51,
   "id": "dd474121-59a9-4b27-a375-1ad2e63e6953",
   "metadata": {},
   "outputs": [
    {
     "name": "stdout",
     "output_type": "stream",
     "text": [
      "{10, 30}\n"
     ]
    }
   ],
   "source": [
    "x={10,20,30,40}\n",
    "y={10,50,60,30}\n",
    "print(x.intersection(y))"
   ]
  },
  {
   "cell_type": "code",
   "execution_count": null,
   "id": "cd278885-ef4d-4233-8571-daabc5f8a7f2",
   "metadata": {},
   "outputs": [],
   "source": []
  },
  {
   "cell_type": "code",
   "execution_count": 55,
   "id": "cafb2eb3-08cd-4ea6-a53c-089ac0d124ce",
   "metadata": {},
   "outputs": [
    {
     "name": "stdout",
     "output_type": "stream",
     "text": [
      "items in set  4\n",
      "max item 5552\n",
      "min item 10\n",
      "(5552, 10, 58, 66)\n",
      "[5552, 10, 58, 66]\n"
     ]
    }
   ],
   "source": [
    "a = {10,58,5552,66}\n",
    "print(\"items in set \",len(a))\n",
    "print(\"max item\",max(a))\n",
    "print(\"min item\",min(a))\n",
    "\n",
    "x =tuple(a)\n",
    "print(x)\n",
    "y = list(a)\n",
    "print(y)"
   ]
  },
  {
   "cell_type": "code",
   "execution_count": 5,
   "id": "492e669e-e419-49a9-b29f-734c20636c67",
   "metadata": {},
   "outputs": [
    {
     "name": "stdin",
     "output_type": "stream",
     "text": [
      "Numbers  15\n"
     ]
    },
    {
     "name": "stdout",
     "output_type": "stream",
     "text": [
      "{1: 1, 2: 4, 3: 9, 4: 16, 5: 25, 6: 36, 7: 49, 8: 64, 9: 81, 10: 100, 11: 121, 12: 144, 13: 169, 14: 196, 15: 225}\n"
     ]
    }
   ],
   "source": [
    "d = dict()\n",
    "n= int(input(\"Numbers \",))\n",
    "for x in range(1,n+1):\n",
    "    d[x]=x**2\n",
    "print(d)\n",
    "    "
   ]
  }
 ],
 "metadata": {
  "kernelspec": {
   "display_name": "Python 3 (ipykernel)",
   "language": "python",
   "name": "python3"
  },
  "language_info": {
   "codemirror_mode": {
    "name": "ipython",
    "version": 3
   },
   "file_extension": ".py",
   "mimetype": "text/x-python",
   "name": "python",
   "nbconvert_exporter": "python",
   "pygments_lexer": "ipython3",
   "version": "3.11.7"
  },
  "widgets": {
   "application/vnd.jupyter.widget-state+json": {
    "state": {},
    "version_major": 2,
    "version_minor": 0
   }
  }
 },
 "nbformat": 4,
 "nbformat_minor": 5
}
