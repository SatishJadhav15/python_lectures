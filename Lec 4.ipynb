{
 "cells": [
  {
   "cell_type": "markdown",
   "id": "e0622a9a-5b54-4dc2-a4c6-a54b100805a2",
   "metadata": {},
   "source": [
    "# Float function"
   ]
  },
  {
   "cell_type": "markdown",
   "id": "87559600-2f9a-4d9d-aabb-6a1982675608",
   "metadata": {},
   "source": [
    "built in function"
   ]
  },
  {
   "cell_type": "code",
   "execution_count": 1,
   "id": "25202ebe-935b-4ed6-9cd4-cd40c70071c2",
   "metadata": {},
   "outputs": [
    {
     "name": "stdout",
     "output_type": "stream",
     "text": [
      "10.0\n",
      "<class 'int'>\n"
     ]
    }
   ],
   "source": [
    "num_int = 10\n",
    "a = float(num_int)\n",
    "print(a)\n"
   ]
  },
  {
   "cell_type": "code",
   "execution_count": 3,
   "id": "07b9095b-cd43-4353-b1cd-f138fdcac5cd",
   "metadata": {},
   "outputs": [
    {
     "ename": "ValueError",
     "evalue": "invalid literal for int() with base 10: 'abc'",
     "output_type": "error",
     "traceback": [
      "\u001b[1;31m---------------------------------------------------------------------------\u001b[0m",
      "\u001b[1;31mValueError\u001b[0m                                Traceback (most recent call last)",
      "Cell \u001b[1;32mIn[3], line 2\u001b[0m\n\u001b[0;32m      1\u001b[0m a \u001b[38;5;241m=\u001b[39m \u001b[38;5;124m\"\u001b[39m\u001b[38;5;124mabc\u001b[39m\u001b[38;5;124m\"\u001b[39m\n\u001b[1;32m----> 2\u001b[0m b \u001b[38;5;241m=\u001b[39m \u001b[38;5;28mint\u001b[39m(a)\n\u001b[0;32m      3\u001b[0m \u001b[38;5;28mprint\u001b[39m(b)\n",
      "\u001b[1;31mValueError\u001b[0m: invalid literal for int() with base 10: 'abc'"
     ]
    }
   ],
   "source": [
    "a = \"abc\"\n",
    "b = int(a)\n",
    "print(b)"
   ]
  },
  {
   "cell_type": "code",
   "execution_count": 9,
   "id": "e0acd1c1-fdc7-4e76-8ccd-6407368d859a",
   "metadata": {},
   "outputs": [
    {
     "name": "stdout",
     "output_type": "stream",
     "text": [
      "454\n",
      "<class 'str'>\n",
      "4544\n"
     ]
    }
   ],
   "source": [
    "a = 454\n",
    "b= str(a)\n",
    "print(b)\n",
    "print(type(b))\n",
    "c = \"4\"\n",
    "print(b+c)"
   ]
  },
  {
   "cell_type": "code",
   "execution_count": 10,
   "id": "a01064de-4516-4815-bfd1-0f8d13a20bc5",
   "metadata": {},
   "outputs": [
    {
     "name": "stdout",
     "output_type": "stream",
     "text": [
      "(2-8j)\n"
     ]
    }
   ],
   "source": [
    "comp = complex(2,-8)\n",
    "print(comp)"
   ]
  },
  {
   "cell_type": "markdown",
   "id": "abf4d0ab-245b-44aa-94e4-0dbb99cc6d6d",
   "metadata": {},
   "source": [
    "# abs function"
   ]
  },
  {
   "cell_type": "code",
   "execution_count": 11,
   "id": "7ee1f952-9909-4ddf-ae97-5d37f6de8a09",
   "metadata": {},
   "outputs": [],
   "source": [
    "# it converts negative value into a positive "
   ]
  },
  {
   "cell_type": "code",
   "execution_count": 12,
   "id": "628e83e2-62fd-4509-9b5f-091139af2333",
   "metadata": {},
   "outputs": [
    {
     "name": "stdout",
     "output_type": "stream",
     "text": [
      "4554\n"
     ]
    }
   ],
   "source": [
    "a = -4554\n",
    "print(abs(a))"
   ]
  },
  {
   "cell_type": "code",
   "execution_count": 14,
   "id": "e4845a17-57cc-48f3-90b6-4fc0347dda61",
   "metadata": {},
   "outputs": [
    {
     "name": "stdout",
     "output_type": "stream",
     "text": [
      "56.54\n"
     ]
    }
   ],
   "source": [
    "a = -56.54\n",
    "print(abs(a))"
   ]
  },
  {
   "cell_type": "code",
   "execution_count": 15,
   "id": "b23b06f3-cb82-48a1-8254-91c8b279310f",
   "metadata": {},
   "outputs": [
    {
     "name": "stdout",
     "output_type": "stream",
     "text": [
      "5.0\n"
     ]
    }
   ],
   "source": [
    "a = -3-4j\n",
    "print(abs(a))"
   ]
  },
  {
   "cell_type": "code",
   "execution_count": 16,
   "id": "b5d28915-ef01-4fc7-ba13-d391fe3bde6f",
   "metadata": {},
   "outputs": [
    {
     "name": "stdout",
     "output_type": "stream",
     "text": [
      "5.0\n"
     ]
    }
   ],
   "source": [
    "a = 3-4j\n",
    "print(abs(a))"
   ]
  },
  {
   "cell_type": "markdown",
   "id": "32250f03-fa43-45d0-8d06-1db22384dd4b",
   "metadata": {},
   "source": [
    "# len function"
   ]
  },
  {
   "cell_type": "code",
   "execution_count": 17,
   "id": "9524838c-13cf-4453-be13-bef0f4501a38",
   "metadata": {},
   "outputs": [
    {
     "name": "stdout",
     "output_type": "stream",
     "text": [
      "16\n"
     ]
    }
   ],
   "source": [
    "a = \"I am an engineer\"\n",
    "print(len(a))"
   ]
  },
  {
   "cell_type": "code",
   "execution_count": 18,
   "id": "fb8ad220-6f74-4394-9678-1c26525d49a2",
   "metadata": {},
   "outputs": [
    {
     "ename": "TypeError",
     "evalue": "object of type 'int' has no len()",
     "output_type": "error",
     "traceback": [
      "\u001b[1;31m---------------------------------------------------------------------------\u001b[0m",
      "\u001b[1;31mTypeError\u001b[0m                                 Traceback (most recent call last)",
      "Cell \u001b[1;32mIn[18], line 2\u001b[0m\n\u001b[0;32m      1\u001b[0m c\u001b[38;5;241m=\u001b[39m \u001b[38;5;241m233\u001b[39m\n\u001b[1;32m----> 2\u001b[0m \u001b[38;5;28mprint\u001b[39m(\u001b[38;5;28mlen\u001b[39m(c))\n",
      "\u001b[1;31mTypeError\u001b[0m: object of type 'int' has no len()"
     ]
    }
   ],
   "source": [
    "c= 233\n",
    "print(len(c))"
   ]
  },
  {
   "cell_type": "code",
   "execution_count": 19,
   "id": "2bfc3403-e673-4c6c-b454-6760a5d84ebe",
   "metadata": {},
   "outputs": [
    {
     "name": "stdout",
     "output_type": "stream",
     "text": [
      "4\n"
     ]
    }
   ],
   "source": [
    "s = [24,54,4,\"fhsu\"]\n",
    "print(len(s))"
   ]
  },
  {
   "cell_type": "code",
   "execution_count": 22,
   "id": "d6e38dfe-f97c-4cc9-a65c-201f58c88ad9",
   "metadata": {},
   "outputs": [
    {
     "name": "stdout",
     "output_type": "stream",
     "text": [
      "2\n"
     ]
    }
   ],
   "source": [
    "s = [(1,'satish,jadhav'),(2,'abc','xyz')]\n",
    "print(len(s))"
   ]
  },
  {
   "cell_type": "code",
   "execution_count": 30,
   "id": "29a7f6ba-ba59-4d6f-a811-ba777d4dad43",
   "metadata": {},
   "outputs": [
    {
     "name": "stdout",
     "output_type": "stream",
     "text": [
      "74246.25\n",
      "The simple interest is 74246\n"
     ]
    }
   ],
   "source": [
    "P = 250000\n",
    "R= 9.8995\n",
    "T = 3\n",
    "SI = (P*R*T)/100\n",
    "print(SI)\n",
    "print(\"The simple interest is\",int(SI))\n"
   ]
  },
  {
   "cell_type": "code",
   "execution_count": 3,
   "id": "bd6ea404-9bfd-4bf0-90a3-1d096be1b36e",
   "metadata": {},
   "outputs": [
    {
     "name": "stdin",
     "output_type": "stream",
     "text": [
      "enter a number for -5\n"
     ]
    },
    {
     "name": "stdout",
     "output_type": "stream",
     "text": [
      "bye\n"
     ]
    }
   ],
   "source": [
    "a = int(input(\"enter a number for\"))\n",
    "if a > 0 :\n",
    "    print(\"hello\")\n",
    "elif a==0:\n",
    "    print()\n",
    "else:\n",
    "    print(\"bye\")"
   ]
  },
  {
   "cell_type": "code",
   "execution_count": null,
   "id": "a4a43537-50d4-4e4e-a5fe-e663ea514fe3",
   "metadata": {},
   "outputs": [],
   "source": []
  }
 ],
 "metadata": {
  "kernelspec": {
   "display_name": "Python 3 (ipykernel)",
   "language": "python",
   "name": "python3"
  },
  "language_info": {
   "codemirror_mode": {
    "name": "ipython",
    "version": 3
   },
   "file_extension": ".py",
   "mimetype": "text/x-python",
   "name": "python",
   "nbconvert_exporter": "python",
   "pygments_lexer": "ipython3",
   "version": "3.11.7"
  },
  "widgets": {
   "application/vnd.jupyter.widget-state+json": {
    "state": {},
    "version_major": 2,
    "version_minor": 0
   }
  }
 },
 "nbformat": 4,
 "nbformat_minor": 5
}
